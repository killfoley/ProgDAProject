{
 "cells": [
  {
   "cell_type": "markdown",
   "metadata": {},
   "source": [
    "## Programming for Data Analysis Project Notebook 2020 - Killian Foley\n",
    "### Problem Statement\n",
    "As a manufacturing engineer at electric motor manufacturing company \"Bratwurst Motors\" I have been tasked with performing a tolerance stackup analysis, on a linear assembly of multiple parts using the Monte Carlo simulation method. The use of tolerancing is very important in the mechanical design process because it affects product quality and manufacturing cost. [1] From Wikipedia [2] Tolerance analysis is described as \"the general term given to describe the study of accumulated variation in mechanical parts and assemblies\". Tolerance stackup is a process used in mechanical engineering for calculating the effects of the accumulated variation that is allowed by specified dimensions and tolerances provided on manufacturing drawings.\n",
    "\n",
    "\n",
    "#### Variables Explained\n",
    "Is the hole within tolerance = \"accepted\" (True or False)  \n",
    "Drill bit starting diameter in mm = \"drill_diameter\" (mm)  \n",
    "Number of cycles of drill bit = \"cycles\" (unit less number)  \n",
    "Hole diameter = \"hole_diameter\" = (mm)"
   ]
  },
  {
   "cell_type": "code",
   "execution_count": 1,
   "metadata": {},
   "outputs": [
    {
     "data": {
      "text/plain": [
       "array([6.809, 6.813, 6.805, 6.803, 6.81 , 6.808, 6.809, 6.803, 6.813,\n",
       "       6.814, 6.808, 6.805, 6.803, 6.814, 6.8  , 6.809, 6.803, 6.813,\n",
       "       6.808, 6.814, 6.811, 6.802, 6.815, 6.806, 6.805, 6.815, 6.802,\n",
       "       6.812, 6.805, 6.804, 6.8  , 6.801, 6.813, 6.812, 6.812, 6.812,\n",
       "       6.804, 6.814, 6.814, 6.808, 6.808, 6.809, 6.807, 6.811, 6.808,\n",
       "       6.813, 6.809, 6.803, 6.803, 6.813, 6.813, 6.804, 6.808, 6.809,\n",
       "       6.806, 6.806, 6.8  , 6.814, 6.813, 6.813, 6.811, 6.812, 6.811,\n",
       "       6.801, 6.815, 6.805, 6.807, 6.803, 6.815, 6.807, 6.808, 6.802,\n",
       "       6.809, 6.809, 6.814, 6.811, 6.812, 6.801, 6.811, 6.806, 6.813,\n",
       "       6.804, 6.801, 6.812, 6.807, 6.805, 6.804, 6.803, 6.811, 6.803,\n",
       "       6.801, 6.811, 6.803, 6.813, 6.805, 6.804, 6.813, 6.808, 6.806,\n",
       "       6.811])"
      ]
     },
     "execution_count": 1,
     "metadata": {},
     "output_type": "execute_result"
    }
   ],
   "source": [
    "#start by importing libraries\n",
    "import numpy as np\n",
    "import pandas as pd\n",
    "import matplotlib.pyplot as plt\n",
    "import seaborn as sns\n",
    "%matplotlib inline\n",
    "\n",
    "# set Numpy precision to 3 decimal places due to practical measurement accuracies\n",
    "np.set_printoptions(precision=3)\n",
    "pd.set_option('precision', 3)\n",
    "\n",
    "#setting the random generator so results can be reproduced\n",
    "\n",
    "from numpy.random import default_rng\n",
    "rg = default_rng(135792468)\n",
    "\n",
    "#Generating drill diameter data\n",
    "drill_diameter = rg.uniform(6.8,6.815,100) #simulate drill diamaters using normal distribution\n",
    "drill_diameter"
   ]
  },
  {
   "cell_type": "markdown",
   "metadata": {},
   "source": [
    "As the manufacturing facilty employs Six Sigma techniques the manufacturing yield will be designed to these paramters that is the upper and lower limits will be +3 and -3 standard deviations respectively with the distribution centred around the halfway point.  \n",
    "https://en.wikipedia.org/wiki/Six_Sigma"
   ]
  },
  {
   "cell_type": "code",
   "execution_count": 2,
   "metadata": {},
   "outputs": [
    {
     "data": {
      "text/plain": [
       "array([6.802, 6.809, 6.808, 6.808, 6.806, 6.811, 6.805, 6.804, 6.807,\n",
       "       6.808, 6.805, 6.804, 6.804, 6.811, 6.802, 6.807, 6.808, 6.807,\n",
       "       6.811, 6.807, 6.81 , 6.808, 6.802, 6.807, 6.803, 6.809, 6.81 ,\n",
       "       6.805, 6.809, 6.81 , 6.811, 6.809, 6.807, 6.809, 6.806, 6.805,\n",
       "       6.806, 6.807, 6.81 , 6.811, 6.807, 6.804, 6.81 , 6.811, 6.806,\n",
       "       6.809, 6.807, 6.808, 6.807, 6.811, 6.809, 6.807, 6.804, 6.808,\n",
       "       6.806, 6.805, 6.808, 6.808, 6.809, 6.809, 6.807, 6.804, 6.804,\n",
       "       6.81 , 6.806, 6.803, 6.804, 6.806, 6.802, 6.809, 6.807, 6.807,\n",
       "       6.807, 6.804, 6.812, 6.804, 6.813, 6.806, 6.808, 6.809, 6.807,\n",
       "       6.81 , 6.807, 6.813, 6.806, 6.808, 6.807, 6.808, 6.808, 6.807,\n",
       "       6.806, 6.809, 6.813, 6.808, 6.809, 6.813, 6.807, 6.81 , 6.809,\n",
       "       6.803])"
      ]
     },
     "execution_count": 2,
     "metadata": {},
     "output_type": "execute_result"
    }
   ],
   "source": [
    "mu, sigma = 6.8075, 0.0025 # create variables mean and standard deviation\n",
    "hole_diameter = rg.normal(mu, sigma, 100) # simulate hole diameter variable using normal distribution\n",
    "hole_diameter"
   ]
  },
  {
   "cell_type": "markdown",
   "metadata": {},
   "source": [
    "Cycles - after consulting the manufacturer and observing similar processes already in production it is estimated that number of cycles will range from 15-30 likely depending on the starting diameter of the drill bit.  \n",
    "reference: https://www.sandvik.coromant.com/en-us/knowledge/machining-formulas-definitions/pages/drilling.aspx"
   ]
  },
  {
   "cell_type": "code",
   "execution_count": 3,
   "metadata": {},
   "outputs": [
    {
     "data": {
      "text/plain": [
       "array([24, 17, 23, 19, 21, 23, 22, 25, 29, 23, 25, 21, 20, 18, 25, 18, 26,\n",
       "       21, 28, 22, 29, 17, 29, 26, 26, 28, 24, 27, 28, 24, 28, 28, 29, 15,\n",
       "       17, 24, 18, 27, 26, 16, 23, 15, 22, 17, 25, 15, 24, 29, 22, 15, 25,\n",
       "       28, 26, 15, 22, 29, 28, 23, 17, 15, 29, 18, 28, 19, 18, 23, 28, 25,\n",
       "       20, 18, 22, 15, 16, 18, 24, 23, 17, 29, 28, 25, 20, 25, 23, 22, 28,\n",
       "       17, 29, 25, 23, 17, 21, 23, 26, 15, 15, 19, 22, 15, 15, 28])"
      ]
     },
     "execution_count": 3,
     "metadata": {},
     "output_type": "execute_result"
    }
   ],
   "source": [
    "cycles = rg.integers(15,30,100)\n",
    "cycles"
   ]
  },
  {
   "cell_type": "markdown",
   "metadata": {},
   "source": [
    "As we are implementing Six Sigma techniques we should expect 3.4 defects per million "
   ]
  },
  {
   "cell_type": "code",
   "execution_count": 4,
   "metadata": {},
   "outputs": [
    {
     "data": {
      "text/plain": [
       "array([ True,  True,  True,  True,  True,  True,  True,  True,  True,\n",
       "        True,  True,  True,  True,  True,  True,  True,  True,  True,\n",
       "        True,  True,  True,  True,  True,  True,  True,  True,  True,\n",
       "        True,  True,  True,  True,  True,  True,  True,  True,  True,\n",
       "        True,  True,  True,  True,  True,  True,  True,  True,  True,\n",
       "        True,  True,  True,  True,  True,  True,  True,  True,  True,\n",
       "        True,  True,  True,  True,  True,  True,  True,  True,  True,\n",
       "        True,  True,  True,  True,  True,  True,  True,  True,  True,\n",
       "        True,  True,  True,  True,  True,  True,  True,  True,  True,\n",
       "        True,  True,  True,  True,  True,  True,  True,  True,  True,\n",
       "        True,  True,  True,  True,  True,  True,  True,  True,  True,\n",
       "        True])"
      ]
     },
     "execution_count": 4,
     "metadata": {},
     "output_type": "execute_result"
    }
   ],
   "source": [
    "outcome = [True, False]\n",
    "accepted = rg.choice(outcome, 100, p=[0.999999966,3.4E-8])\n",
    "accepted"
   ]
  },
  {
   "cell_type": "markdown",
   "metadata": {},
   "source": [
    "Create a Pandas Dataframe from dictionary. [https://pandas.pydata.org/pandas-docs/stable/reference/api/pandas.DataFrame.html]."
   ]
  },
  {
   "cell_type": "code",
   "execution_count": 5,
   "metadata": {},
   "outputs": [
    {
     "data": {
      "text/html": [
       "<div>\n",
       "<style scoped>\n",
       "    .dataframe tbody tr th:only-of-type {\n",
       "        vertical-align: middle;\n",
       "    }\n",
       "\n",
       "    .dataframe tbody tr th {\n",
       "        vertical-align: top;\n",
       "    }\n",
       "\n",
       "    .dataframe thead th {\n",
       "        text-align: right;\n",
       "    }\n",
       "</style>\n",
       "<table border=\"1\" class=\"dataframe\">\n",
       "  <thead>\n",
       "    <tr style=\"text-align: right;\">\n",
       "      <th></th>\n",
       "      <th>DrillDiameter</th>\n",
       "      <th>HoleDiameter</th>\n",
       "      <th>DrillbitCycles</th>\n",
       "      <th>QAAccepted</th>\n",
       "    </tr>\n",
       "  </thead>\n",
       "  <tbody>\n",
       "    <tr>\n",
       "      <th>0</th>\n",
       "      <td>6.809</td>\n",
       "      <td>6.802</td>\n",
       "      <td>24</td>\n",
       "      <td>True</td>\n",
       "    </tr>\n",
       "    <tr>\n",
       "      <th>1</th>\n",
       "      <td>6.813</td>\n",
       "      <td>6.809</td>\n",
       "      <td>17</td>\n",
       "      <td>True</td>\n",
       "    </tr>\n",
       "    <tr>\n",
       "      <th>2</th>\n",
       "      <td>6.805</td>\n",
       "      <td>6.808</td>\n",
       "      <td>23</td>\n",
       "      <td>True</td>\n",
       "    </tr>\n",
       "    <tr>\n",
       "      <th>3</th>\n",
       "      <td>6.803</td>\n",
       "      <td>6.808</td>\n",
       "      <td>19</td>\n",
       "      <td>True</td>\n",
       "    </tr>\n",
       "    <tr>\n",
       "      <th>4</th>\n",
       "      <td>6.810</td>\n",
       "      <td>6.806</td>\n",
       "      <td>21</td>\n",
       "      <td>True</td>\n",
       "    </tr>\n",
       "    <tr>\n",
       "      <th>...</th>\n",
       "      <td>...</td>\n",
       "      <td>...</td>\n",
       "      <td>...</td>\n",
       "      <td>...</td>\n",
       "    </tr>\n",
       "    <tr>\n",
       "      <th>95</th>\n",
       "      <td>6.804</td>\n",
       "      <td>6.813</td>\n",
       "      <td>19</td>\n",
       "      <td>True</td>\n",
       "    </tr>\n",
       "    <tr>\n",
       "      <th>96</th>\n",
       "      <td>6.813</td>\n",
       "      <td>6.807</td>\n",
       "      <td>22</td>\n",
       "      <td>True</td>\n",
       "    </tr>\n",
       "    <tr>\n",
       "      <th>97</th>\n",
       "      <td>6.808</td>\n",
       "      <td>6.810</td>\n",
       "      <td>15</td>\n",
       "      <td>True</td>\n",
       "    </tr>\n",
       "    <tr>\n",
       "      <th>98</th>\n",
       "      <td>6.806</td>\n",
       "      <td>6.809</td>\n",
       "      <td>15</td>\n",
       "      <td>True</td>\n",
       "    </tr>\n",
       "    <tr>\n",
       "      <th>99</th>\n",
       "      <td>6.811</td>\n",
       "      <td>6.803</td>\n",
       "      <td>28</td>\n",
       "      <td>True</td>\n",
       "    </tr>\n",
       "  </tbody>\n",
       "</table>\n",
       "<p>100 rows × 4 columns</p>\n",
       "</div>"
      ],
      "text/plain": [
       "    DrillDiameter  HoleDiameter  DrillbitCycles  QAAccepted\n",
       "0           6.809         6.802              24        True\n",
       "1           6.813         6.809              17        True\n",
       "2           6.805         6.808              23        True\n",
       "3           6.803         6.808              19        True\n",
       "4           6.810         6.806              21        True\n",
       "..            ...           ...             ...         ...\n",
       "95          6.804         6.813              19        True\n",
       "96          6.813         6.807              22        True\n",
       "97          6.808         6.810              15        True\n",
       "98          6.806         6.809              15        True\n",
       "99          6.811         6.803              28        True\n",
       "\n",
       "[100 rows x 4 columns]"
      ]
     },
     "execution_count": 5,
     "metadata": {},
     "output_type": "execute_result"
    }
   ],
   "source": [
    "d = {'DrillDiameter': drill_diameter, 'HoleDiameter': hole_diameter, 'DrillbitCycles': cycles, 'QAAccepted': accepted}\n",
    "df = pd.DataFrame(data=d)\n",
    "df"
   ]
  },
  {
   "cell_type": "code",
   "execution_count": 6,
   "metadata": {},
   "outputs": [
    {
     "data": {
      "text/html": [
       "<div>\n",
       "<style scoped>\n",
       "    .dataframe tbody tr th:only-of-type {\n",
       "        vertical-align: middle;\n",
       "    }\n",
       "\n",
       "    .dataframe tbody tr th {\n",
       "        vertical-align: top;\n",
       "    }\n",
       "\n",
       "    .dataframe thead th {\n",
       "        text-align: right;\n",
       "    }\n",
       "</style>\n",
       "<table border=\"1\" class=\"dataframe\">\n",
       "  <thead>\n",
       "    <tr style=\"text-align: right;\">\n",
       "      <th></th>\n",
       "      <th>DrillDiameter</th>\n",
       "      <th>HoleDiameter</th>\n",
       "      <th>DrillbitCycles</th>\n",
       "    </tr>\n",
       "  </thead>\n",
       "  <tbody>\n",
       "    <tr>\n",
       "      <th>count</th>\n",
       "      <td>100.000</td>\n",
       "      <td>100.000</td>\n",
       "      <td>100.000</td>\n",
       "    </tr>\n",
       "    <tr>\n",
       "      <th>mean</th>\n",
       "      <td>6.808</td>\n",
       "      <td>6.807</td>\n",
       "      <td>22.420</td>\n",
       "    </tr>\n",
       "    <tr>\n",
       "      <th>std</th>\n",
       "      <td>0.004</td>\n",
       "      <td>0.003</td>\n",
       "      <td>4.586</td>\n",
       "    </tr>\n",
       "    <tr>\n",
       "      <th>min</th>\n",
       "      <td>6.800</td>\n",
       "      <td>6.802</td>\n",
       "      <td>15.000</td>\n",
       "    </tr>\n",
       "    <tr>\n",
       "      <th>25%</th>\n",
       "      <td>6.804</td>\n",
       "      <td>6.806</td>\n",
       "      <td>18.000</td>\n",
       "    </tr>\n",
       "    <tr>\n",
       "      <th>50%</th>\n",
       "      <td>6.808</td>\n",
       "      <td>6.807</td>\n",
       "      <td>23.000</td>\n",
       "    </tr>\n",
       "    <tr>\n",
       "      <th>75%</th>\n",
       "      <td>6.812</td>\n",
       "      <td>6.809</td>\n",
       "      <td>26.000</td>\n",
       "    </tr>\n",
       "    <tr>\n",
       "      <th>max</th>\n",
       "      <td>6.815</td>\n",
       "      <td>6.813</td>\n",
       "      <td>29.000</td>\n",
       "    </tr>\n",
       "  </tbody>\n",
       "</table>\n",
       "</div>"
      ],
      "text/plain": [
       "       DrillDiameter  HoleDiameter  DrillbitCycles\n",
       "count        100.000       100.000         100.000\n",
       "mean           6.808         6.807          22.420\n",
       "std            0.004         0.003           4.586\n",
       "min            6.800         6.802          15.000\n",
       "25%            6.804         6.806          18.000\n",
       "50%            6.808         6.807          23.000\n",
       "75%            6.812         6.809          26.000\n",
       "max            6.815         6.813          29.000"
      ]
     },
     "execution_count": 6,
     "metadata": {},
     "output_type": "execute_result"
    }
   ],
   "source": [
    "df.describe() #Outputs a summary of each numerical column"
   ]
  },
  {
   "cell_type": "code",
   "execution_count": 7,
   "metadata": {},
   "outputs": [
    {
     "data": {
      "text/html": [
       "<div>\n",
       "<style scoped>\n",
       "    .dataframe tbody tr th:only-of-type {\n",
       "        vertical-align: middle;\n",
       "    }\n",
       "\n",
       "    .dataframe tbody tr th {\n",
       "        vertical-align: top;\n",
       "    }\n",
       "\n",
       "    .dataframe thead th {\n",
       "        text-align: right;\n",
       "    }\n",
       "</style>\n",
       "<table border=\"1\" class=\"dataframe\">\n",
       "  <thead>\n",
       "    <tr style=\"text-align: right;\">\n",
       "      <th></th>\n",
       "      <th>DrillDiameter</th>\n",
       "      <th>HoleDiameter</th>\n",
       "      <th>DrillbitCycles</th>\n",
       "      <th>QAAccepted</th>\n",
       "    </tr>\n",
       "  </thead>\n",
       "  <tbody>\n",
       "    <tr>\n",
       "      <th>count</th>\n",
       "      <td>100.000</td>\n",
       "      <td>100.000</td>\n",
       "      <td>100.000</td>\n",
       "      <td>100</td>\n",
       "    </tr>\n",
       "    <tr>\n",
       "      <th>unique</th>\n",
       "      <td>NaN</td>\n",
       "      <td>NaN</td>\n",
       "      <td>NaN</td>\n",
       "      <td>1</td>\n",
       "    </tr>\n",
       "    <tr>\n",
       "      <th>top</th>\n",
       "      <td>NaN</td>\n",
       "      <td>NaN</td>\n",
       "      <td>NaN</td>\n",
       "      <td>True</td>\n",
       "    </tr>\n",
       "    <tr>\n",
       "      <th>freq</th>\n",
       "      <td>NaN</td>\n",
       "      <td>NaN</td>\n",
       "      <td>NaN</td>\n",
       "      <td>100</td>\n",
       "    </tr>\n",
       "    <tr>\n",
       "      <th>mean</th>\n",
       "      <td>6.808</td>\n",
       "      <td>6.807</td>\n",
       "      <td>22.420</td>\n",
       "      <td>NaN</td>\n",
       "    </tr>\n",
       "    <tr>\n",
       "      <th>std</th>\n",
       "      <td>0.004</td>\n",
       "      <td>0.003</td>\n",
       "      <td>4.586</td>\n",
       "      <td>NaN</td>\n",
       "    </tr>\n",
       "    <tr>\n",
       "      <th>min</th>\n",
       "      <td>6.800</td>\n",
       "      <td>6.802</td>\n",
       "      <td>15.000</td>\n",
       "      <td>NaN</td>\n",
       "    </tr>\n",
       "    <tr>\n",
       "      <th>25%</th>\n",
       "      <td>6.804</td>\n",
       "      <td>6.806</td>\n",
       "      <td>18.000</td>\n",
       "      <td>NaN</td>\n",
       "    </tr>\n",
       "    <tr>\n",
       "      <th>50%</th>\n",
       "      <td>6.808</td>\n",
       "      <td>6.807</td>\n",
       "      <td>23.000</td>\n",
       "      <td>NaN</td>\n",
       "    </tr>\n",
       "    <tr>\n",
       "      <th>75%</th>\n",
       "      <td>6.812</td>\n",
       "      <td>6.809</td>\n",
       "      <td>26.000</td>\n",
       "      <td>NaN</td>\n",
       "    </tr>\n",
       "    <tr>\n",
       "      <th>max</th>\n",
       "      <td>6.815</td>\n",
       "      <td>6.813</td>\n",
       "      <td>29.000</td>\n",
       "      <td>NaN</td>\n",
       "    </tr>\n",
       "  </tbody>\n",
       "</table>\n",
       "</div>"
      ],
      "text/plain": [
       "        DrillDiameter  HoleDiameter  DrillbitCycles QAAccepted\n",
       "count         100.000       100.000         100.000        100\n",
       "unique            NaN           NaN             NaN          1\n",
       "top               NaN           NaN             NaN       True\n",
       "freq              NaN           NaN             NaN        100\n",
       "mean            6.808         6.807          22.420        NaN\n",
       "std             0.004         0.003           4.586        NaN\n",
       "min             6.800         6.802          15.000        NaN\n",
       "25%             6.804         6.806          18.000        NaN\n",
       "50%             6.808         6.807          23.000        NaN\n",
       "75%             6.812         6.809          26.000        NaN\n",
       "max             6.815         6.813          29.000        NaN"
      ]
     },
     "execution_count": 7,
     "metadata": {},
     "output_type": "execute_result"
    }
   ],
   "source": [
    "df.describe(include='all') #Outputs a summary of all columns"
   ]
  },
  {
   "cell_type": "code",
   "execution_count": 9,
   "metadata": {},
   "outputs": [
    {
     "data": {
      "text/html": [
       "<div>\n",
       "<style scoped>\n",
       "    .dataframe tbody tr th:only-of-type {\n",
       "        vertical-align: middle;\n",
       "    }\n",
       "\n",
       "    .dataframe tbody tr th {\n",
       "        vertical-align: top;\n",
       "    }\n",
       "\n",
       "    .dataframe thead th {\n",
       "        text-align: right;\n",
       "    }\n",
       "</style>\n",
       "<table border=\"1\" class=\"dataframe\">\n",
       "  <thead>\n",
       "    <tr style=\"text-align: right;\">\n",
       "      <th></th>\n",
       "      <th>DrillDiameter</th>\n",
       "      <th>HoleDiameter</th>\n",
       "      <th>DrillbitCycles</th>\n",
       "    </tr>\n",
       "  </thead>\n",
       "  <tbody>\n",
       "    <tr>\n",
       "      <th>0</th>\n",
       "      <td>6.809</td>\n",
       "      <td>6.802</td>\n",
       "      <td>24</td>\n",
       "    </tr>\n",
       "    <tr>\n",
       "      <th>1</th>\n",
       "      <td>6.813</td>\n",
       "      <td>6.809</td>\n",
       "      <td>17</td>\n",
       "    </tr>\n",
       "    <tr>\n",
       "      <th>2</th>\n",
       "      <td>6.805</td>\n",
       "      <td>6.808</td>\n",
       "      <td>23</td>\n",
       "    </tr>\n",
       "    <tr>\n",
       "      <th>3</th>\n",
       "      <td>6.803</td>\n",
       "      <td>6.808</td>\n",
       "      <td>19</td>\n",
       "    </tr>\n",
       "    <tr>\n",
       "      <th>4</th>\n",
       "      <td>6.810</td>\n",
       "      <td>6.806</td>\n",
       "      <td>21</td>\n",
       "    </tr>\n",
       "    <tr>\n",
       "      <th>...</th>\n",
       "      <td>...</td>\n",
       "      <td>...</td>\n",
       "      <td>...</td>\n",
       "    </tr>\n",
       "    <tr>\n",
       "      <th>95</th>\n",
       "      <td>6.804</td>\n",
       "      <td>6.813</td>\n",
       "      <td>19</td>\n",
       "    </tr>\n",
       "    <tr>\n",
       "      <th>96</th>\n",
       "      <td>6.813</td>\n",
       "      <td>6.807</td>\n",
       "      <td>22</td>\n",
       "    </tr>\n",
       "    <tr>\n",
       "      <th>97</th>\n",
       "      <td>6.808</td>\n",
       "      <td>6.810</td>\n",
       "      <td>15</td>\n",
       "    </tr>\n",
       "    <tr>\n",
       "      <th>98</th>\n",
       "      <td>6.806</td>\n",
       "      <td>6.809</td>\n",
       "      <td>15</td>\n",
       "    </tr>\n",
       "    <tr>\n",
       "      <th>99</th>\n",
       "      <td>6.811</td>\n",
       "      <td>6.803</td>\n",
       "      <td>28</td>\n",
       "    </tr>\n",
       "  </tbody>\n",
       "</table>\n",
       "<p>100 rows × 3 columns</p>\n",
       "</div>"
      ],
      "text/plain": [
       "    DrillDiameter  HoleDiameter  DrillbitCycles\n",
       "0           6.809         6.802              24\n",
       "1           6.813         6.809              17\n",
       "2           6.805         6.808              23\n",
       "3           6.803         6.808              19\n",
       "4           6.810         6.806              21\n",
       "..            ...           ...             ...\n",
       "95          6.804         6.813              19\n",
       "96          6.813         6.807              22\n",
       "97          6.808         6.810              15\n",
       "98          6.806         6.809              15\n",
       "99          6.811         6.803              28\n",
       "\n",
       "[100 rows x 3 columns]"
      ]
     },
     "execution_count": 9,
     "metadata": {},
     "output_type": "execute_result"
    }
   ],
   "source": [
    "#create a new dataframe excluding QAAccepted column as it is non numeric \n",
    "df1 = df[[\"DrillDiameter\", \"HoleDiameter\", \"DrillbitCycles\"]]\n",
    "df1"
   ]
  },
  {
   "cell_type": "code",
   "execution_count": 10,
   "metadata": {},
   "outputs": [
    {
     "data": {
      "text/plain": [
       "<seaborn.axisgrid.PairGrid at 0x10fd702e0>"
      ]
     },
     "execution_count": 10,
     "metadata": {},
     "output_type": "execute_result"
    },
    {
     "data": {
      "image/png": "[encoded data removed]",
      "text/plain": [
       "<Figure size 540x540 with 12 Axes>"
      ]
     },
     "metadata": {
      "needs_background": "light"
     },
     "output_type": "display_data"
    }
   ],
   "source": [
    "sns.pairplot(df1)"
   ]
  },
  {
   "cell_type": "code",
   "execution_count": null,
   "metadata": {},
   "outputs": [],
   "source": []
  },
  {
   "cell_type": "code",
   "execution_count": null,
   "metadata": {},
   "outputs": [],
   "source": [
    "count, bins, ignored = plt.hist(hole_diameter, 30, density=True)\n",
    "plt.plot(bins, 1/(sigma * np.sqrt(2 * np.pi)) *\n",
    "               np.exp( - (bins - mu)**2 / (2 * sigma**2) ),\n",
    "         linewidth=2, color='r')\n",
    "plt.show()"
   ]
  },
  {
   "cell_type": "code",
   "execution_count": null,
   "metadata": {},
   "outputs": [],
   "source": []
  },
  {
   "cell_type": "markdown",
   "metadata": {},
   "source": [
    "#### References\n",
    "[1] Design Society Publication; pdf in repo <br />\n",
    "[2] Tolerance Analysis wiki; https://en.wikipedia.org/wiki/Tolerance_analysis <br />\n",
    "\n",
    "\n",
    "\n",
    "\n",
    "Links\n",
    "https://www.engineeringtoolbox.com/metric-threads-d_777.html\n",
    "https://www.engineersedge.com/international_tol.htm\n",
    "https://www.maford.com/SiteContent/Documents//2018_catalog_sections//MAFord_2018_Master_Catalog_HP_Drill_%20Selection_Chart.pdf"
   ]
  }
 ],
 "metadata": {
  "kernelspec": {
   "display_name": "Python 3",
   "language": "python",
   "name": "python3"
  },
  "language_info": {
   "codemirror_mode": {
    "name": "ipython",
    "version": 3
   },
   "file_extension": ".py",
   "mimetype": "text/x-python",
   "name": "python",
   "nbconvert_exporter": "python",
   "pygments_lexer": "ipython3",
   "version": "3.8.5"
  }
 },
 "nbformat": 4,
 "nbformat_minor": 4
}
