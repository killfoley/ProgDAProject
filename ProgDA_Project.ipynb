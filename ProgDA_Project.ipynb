{
 "cells": [
  {
   "attachments": {
    "Assembly_drawing.png": {
     "image/png": "[encoded data removed]"
    }
   },
   "cell_type": "markdown",
   "metadata": {},
   "source": [
    "## Programming for Data Analysis Project Notebook 2020 - Killian Foley\n",
    "### Problem Statement\n",
    "As a manufacturing engineer at electric motor manufacturing company \"Bratwurst Motors\" I have been assigned the task of performing a tolerance stackup analysis, on a linear assembly of multiple parts using the Monte Carlo simulation method. The use of tolerancing is very important in the mechanical design process because it effects product quality and manufacturing cost. [1] From Wikipedia [2] Tolerance analysis is described as \"the general term given to describe the study of accumulated variation in mechanical parts and assemblies\". Tolerance stackup is a process used in mechanical engineering for calculating the effects of the accumulated variation that is allowed by specified dimensions and tolerances provided on manufacturing drawings. Monte Carlo simulation is a computational simulation that relies on repeated random sampling according to a probability distribution to obtain numerical results. [3] \n",
    "\n",
    "<br>\n",
    "\n",
    "The below assembly drawing shows the example application. In order for the stator and bearing assembly (motor shaft) to fit inside the frame a clearance must be present. That is, the frame is slightly wider than the bearings and stator. The variables will be explained in more detail below.\n",
    "\n",
    "#### Assembly Drawing\n",
    "![Assembly_drawing.png](attachment:Assembly_drawing.png)\n",
    "\n",
    "#### Variables Explained\n",
    "Bearing A = width (mm) Procured parts with dimensions including tolerances provided by the manufacturer. [4]  \n",
    "Stator = length (mm) Manufactured part with tolerance provided by the design engineer according to GD&T standards (IT15) [5]  \n",
    "Bearing B = width (mm) Same as bearing A above  \n",
    "Frame = width (mm) Manufactured part with tolerance provided by the design engineer according to GD&T standards (IT14) [5]  \n",
    "Clearance Gap = A gap must be present between the frame and the outer bearigns so the motor shaft can fit.  \n",
    "<br>\n",
    "In order to create a dataset to perform the analysis the 4 variables (Bearings A&B, Stator and Frame) will have 200 data points simulated according to a normal distribution with the upper and lower tolerance limits being equal to +3$\\sigma$ and -3$\\sigma$ respectively.  \n",
    "The gap will then be calculated for each assembly according to the formula  \n",
    "Clearance Gap(mm) = Frame(mm) - (Bearing A(mm) + Stator(mm) + Bearing B(mm))\n",
    "From this result we can investigate how many, if any will result in no clearnace gap.\n",
    "\n",
    "#### Simulating the Random Variables\n",
    "First the relevant Python packages are imported - Numpy, Pandas, Matplotlib.pyplot, Seaborn. Numpy.random will be used to generate the data. The number of datapoints simulated for each variable will be 200. In order to ensure reproducible data a generator seed is set in Numpy.random.\n",
    "<br>\n",
    "As outlined above each of the variables will be simulated according to a normal (Gaussian) distribution. The nominal dimensions and tolerances are as follows\n",
    "Bearings = 15mm + 0/- 0.120mm  \n",
    "Stator = 180mm +/- 1.6mm  \n",
    "Frame = 211 +/- 1.15mm  "
   ]
  },
  {
   "cell_type": "code",
   "execution_count": 1,
   "metadata": {},
   "outputs": [
    {
     "data": {
      "text/plain": [
       "array([14.936, 14.981, 14.945, 14.971, 14.943, 14.967, 14.985, 14.996,\n",
       "       14.96 , 14.945, 14.962, 14.977, 14.987, 14.99 , 14.949, 14.94 ,\n",
       "       14.933, 14.996, 14.968, 14.93 , 14.94 , 14.961, 14.986, 14.961,\n",
       "       14.977, 14.937, 14.95 , 14.977, 14.941, 14.959, 14.962, 14.987,\n",
       "       14.983, 14.97 , 14.945, 14.976, 14.964, 14.948, 14.988, 14.958,\n",
       "       14.964, 14.974, 14.984, 14.986, 14.964, 14.959, 14.978, 14.952,\n",
       "       14.948, 14.922, 14.937, 14.965, 14.977, 14.959, 14.992, 14.949,\n",
       "       14.962, 14.946, 14.944, 15.014, 14.96 , 14.974, 14.941, 14.952,\n",
       "       14.93 , 14.927, 14.996, 14.974, 14.975, 14.98 , 14.946, 14.986,\n",
       "       14.961, 14.936, 14.951, 14.939, 14.961, 14.952, 14.921, 14.959,\n",
       "       14.964, 14.953, 14.993, 14.921, 14.963, 14.986, 14.983, 14.938,\n",
       "       14.943, 14.947, 14.939, 14.984, 14.991, 14.903, 14.932, 14.947,\n",
       "       14.948, 14.924, 14.918, 14.971, 14.967, 14.967, 14.946, 14.988,\n",
       "       14.94 , 14.929, 14.956, 14.968, 14.942, 14.936, 14.933, 14.984,\n",
       "       14.913, 14.958, 14.967, 14.955, 14.984, 14.958, 14.98 , 14.964,\n",
       "       14.913, 14.958, 14.926, 14.973, 14.982, 14.943, 14.97 , 14.983,\n",
       "       14.992, 14.972, 14.955, 14.973, 14.945, 14.938, 14.948, 14.955,\n",
       "       14.978, 14.989, 14.957, 14.929, 14.98 , 14.991, 14.949, 14.972,\n",
       "       14.955, 14.961, 14.955, 14.989, 14.975, 14.955, 14.932, 14.968,\n",
       "       14.952, 14.938, 14.961, 14.966, 14.974, 14.969, 14.959, 14.932,\n",
       "       14.934, 14.982, 14.945, 14.925, 14.93 , 14.948, 14.915, 14.968,\n",
       "       14.96 , 14.957, 14.955, 14.935, 14.993, 14.933, 15.006, 14.949,\n",
       "       14.964, 14.972, 14.957, 14.977, 14.957, 15.001, 14.948, 14.966,\n",
       "       14.958, 14.967, 14.965, 14.957, 14.952, 14.97 , 15.004, 14.961,\n",
       "       14.97 , 15.007, 14.959, 14.978, 14.972, 14.926, 14.964, 14.969])"
      ]
     },
     "execution_count": 1,
     "metadata": {},
     "output_type": "execute_result"
    }
   ],
   "source": [
    "#start by importing libraries\n",
    "import numpy as np\n",
    "import pandas as pd\n",
    "import matplotlib.pyplot as plt\n",
    "import seaborn as sns\n",
    "%matplotlib inline\n",
    "\n",
    "# set Numpy precision to 3 decimal places due to practical measurement accuracies\n",
    "np.set_printoptions(precision=3)\n",
    "pd.set_option('precision', 3)\n",
    "\n",
    "#setting the random generator so results can be reproduced\n",
    "\n",
    "from numpy.random import default_rng\n",
    "rg = default_rng(135792468)\n",
    "\n",
    "#Generate bearing A data using normal distribution\n",
    "bearing_mu, bearing_sigma = 14.96, 0.02 # assign bearing mean and standard deviation\n",
    "bearing_width_A = rg.normal(bearing_mu, bearing_sigma, 200) #np.random.normal simulates 200 data points\n",
    "bearing_width_A"
   ]
  },
  {
   "cell_type": "code",
   "execution_count": 2,
   "metadata": {},
   "outputs": [
    {
     "data": {
      "text/plain": [
       "array([14.978, 14.998, 14.914, 14.95 , 14.937, 14.956, 14.949, 14.958,\n",
       "       15.003, 14.96 , 14.964, 14.978, 14.956, 14.956, 14.966, 14.952,\n",
       "       14.979, 14.945, 14.95 , 14.954, 14.957, 14.947, 14.968, 14.966,\n",
       "       14.973, 14.998, 14.986, 14.953, 14.946, 14.971, 14.978, 14.948,\n",
       "       14.998, 14.962, 14.962, 14.983, 14.996, 14.971, 14.988, 14.972,\n",
       "       14.95 , 14.988, 14.95 , 14.942, 14.963, 14.977, 14.961, 14.965,\n",
       "       14.961, 14.921, 14.966, 14.983, 14.985, 14.976, 14.972, 14.931,\n",
       "       14.978, 14.962, 14.984, 14.954, 14.952, 14.938, 14.933, 14.946,\n",
       "       14.971, 14.959, 14.983, 14.964, 14.937, 14.973, 14.975, 14.983,\n",
       "       14.948, 14.96 , 14.968, 14.965, 14.951, 14.971, 14.959, 14.938,\n",
       "       14.983, 14.962, 14.96 , 14.981, 14.977, 14.964, 14.97 , 14.981,\n",
       "       14.958, 14.972, 14.955, 14.955, 14.943, 14.971, 14.961, 14.933,\n",
       "       14.963, 14.964, 14.95 , 14.927, 14.969, 14.968, 14.951, 14.982,\n",
       "       14.972, 14.986, 14.931, 14.94 , 14.901, 14.977, 14.954, 14.957,\n",
       "       14.928, 14.952, 14.948, 14.956, 14.968, 14.935, 14.961, 14.949,\n",
       "       14.936, 14.965, 14.981, 14.983, 14.926, 14.944, 15.005, 14.961,\n",
       "       14.977, 14.968, 14.943, 14.963, 14.971, 14.967, 14.968, 14.977,\n",
       "       14.968, 14.953, 14.982, 14.929, 14.97 , 14.97 , 14.993, 14.98 ,\n",
       "       14.943, 14.942, 14.931, 14.958, 14.981, 14.924, 14.976, 14.955,\n",
       "       14.951, 14.97 , 14.947, 14.981, 14.976, 14.955, 14.973, 14.932,\n",
       "       14.951, 14.975, 14.968, 14.955, 14.964, 14.983, 14.946, 14.946,\n",
       "       14.959, 14.992, 14.952, 14.942, 14.947, 14.932, 14.959, 14.942,\n",
       "       14.977, 14.969, 14.938, 14.985, 14.917, 14.979, 14.963, 14.929,\n",
       "       14.978, 14.917, 14.966, 14.957, 14.975, 14.949, 14.928, 14.956,\n",
       "       14.943, 14.935, 14.972, 14.975, 14.962, 14.963, 14.966, 14.933])"
      ]
     },
     "execution_count": 2,
     "metadata": {},
     "output_type": "execute_result"
    }
   ],
   "source": [
    "#Generating bearing B data using normal distribution\n",
    "#Use same bearing mu and sigma from bearing A\n",
    "bearing_width_B = rg.normal(bearing_mu, bearing_sigma, 200) #simulate bearing B width using normal distribution\n",
    "bearing_width_B"
   ]
  },
  {
   "cell_type": "markdown",
   "metadata": {},
   "source": [
    "As the manufacturing facilty employs Six Sigma techniques the manufacturing yield will be designed to these parameters. That is, the upper and lower tolerance limits will be +3 and -3 standard deviations ($\\sigma$) respectively with the distribution centred around the halfway point ($\\mu$).  \n",
    "https://en.wikipedia.org/wiki/Six_Sigma"
   ]
  },
  {
   "cell_type": "code",
   "execution_count": 3,
   "metadata": {},
   "outputs": [
    {
     "data": {
      "text/plain": [
       "array([179.545, 179.383, 180.365, 179.491, 180.239, 180.873, 179.079,\n",
       "       180.176, 179.575, 179.714, 179.698, 179.43 , 180.529, 180.606,\n",
       "       179.819, 180.672, 179.951, 179.449, 181.505, 179.428, 180.4  ,\n",
       "       180.311, 180.281, 179.729, 180.577, 178.952, 180.223, 180.25 ,\n",
       "       180.945, 180.396, 179.603, 179.437, 179.634, 179.81 , 180.182,\n",
       "       180.828, 179.844, 180.895, 179.195, 181.148, 180.326, 180.042,\n",
       "       180.762, 180.056, 179.328, 180.212, 180.396, 179.783, 179.543,\n",
       "       179.673, 180.105, 180.146, 180.483, 179.795, 180.354, 179.914,\n",
       "       180.798, 179.226, 179.531, 180.196, 180.275, 180.721, 180.347,\n",
       "       179.667, 180.538, 179.284, 180.072, 179.491, 179.655, 179.94 ,\n",
       "       180.359, 180.23 , 180.068, 179.962, 179.452, 179.525, 179.603,\n",
       "       179.85 , 180.73 , 179.634, 180.233, 180.392, 180.255, 180.138,\n",
       "       180.77 , 179.61 , 179.496, 180.443, 180.419, 180.272, 179.477,\n",
       "       179.967, 179.045, 179.629, 180.116, 180.366, 179.838, 180.055,\n",
       "       180.667, 179.964, 180.262, 180.633, 180.752, 179.908, 180.38 ,\n",
       "       180.797, 179.259, 178.949, 180.351, 179.711, 179.564, 180.482,\n",
       "       180.1  , 180.696, 179.881, 178.521, 180.794, 180.09 , 179.682,\n",
       "       179.888, 180.246, 179.972, 180.3  , 180.034, 180.673, 178.99 ,\n",
       "       179.574, 178.824, 179.778, 180.644, 180.177, 179.379, 181.005,\n",
       "       180.466, 180.177, 179.575, 180.206, 179.982, 179.865, 179.258,\n",
       "       180.531, 180.384, 180.519, 180.677, 180.229, 179.65 , 180.04 ,\n",
       "       179.864, 180.197, 180.448, 179.923, 179.296, 179.809, 180.134,\n",
       "       180.186, 180.354, 180.797, 178.649, 180.624, 179.77 , 180.063,\n",
       "       180.414, 180.171, 179.165, 180.311, 180.187, 179.802, 180.403,\n",
       "       179.163, 180.242, 179.049, 178.956, 179.967, 180.75 , 179.511,\n",
       "       180.794, 180.554, 180.422, 179.616, 179.556, 179.291, 179.714,\n",
       "       180.353, 180.3  , 179.691, 179.606, 179.546, 180.23 , 179.837,\n",
       "       180.017, 179.89 , 179.953, 179.743, 180.17 , 179.585, 179.544,\n",
       "       179.843, 180.051, 180.176, 180.312])"
      ]
     },
     "execution_count": 3,
     "metadata": {},
     "output_type": "execute_result"
    }
   ],
   "source": [
    "stator_mu, stator_sigma = 180.0, 0.533 # assign stator mean and standard deviation\n",
    "stator_length = rg.normal(stator_mu, stator_sigma, 200) # simulate hole diameter variable using normal distribution\n",
    "stator_length"
   ]
  },
  {
   "cell_type": "code",
   "execution_count": 4,
   "metadata": {
    "scrolled": true
   },
   "outputs": [
    {
     "data": {
      "text/plain": [
       "array([210.042, 211.032, 211.327, 210.584, 211.435, 211.057, 211.42 ,\n",
       "       210.694, 211.263, 211.449, 211.912, 210.69 , 210.725, 211.026,\n",
       "       211.043, 211.294, 210.773, 211.657, 211.102, 211.169, 211.042,\n",
       "       210.885, 210.979, 211.484, 210.049, 210.892, 210.932, 211.267,\n",
       "       210.931, 210.935, 211.068, 210.713, 210.924, 211.337, 210.503,\n",
       "       210.841, 210.171, 210.704, 211.292, 210.478, 210.87 , 211.2  ,\n",
       "       210.209, 211.322, 211.227, 211.543, 212.258, 211.254, 211.066,\n",
       "       210.895, 211.047, 211.147, 211.357, 211.288, 211.259, 211.356,\n",
       "       210.82 , 210.86 , 210.921, 211.608, 211.115, 211.25 , 210.781,\n",
       "       211.023, 211.315, 210.939, 210.537, 211.243, 211.241, 211.324,\n",
       "       211.412, 210.715, 211.335, 211.299, 211.094, 211.497, 210.826,\n",
       "       211.022, 211.051, 210.903, 211.655, 210.13 , 211.551, 211.106,\n",
       "       210.343, 210.785, 210.659, 211.066, 210.971, 211.849, 210.988,\n",
       "       210.876, 210.638, 210.963, 210.553, 211.207, 211.318, 211.234,\n",
       "       211.822, 211.2  , 210.503, 211.388, 210.763, 211.007, 210.824,\n",
       "       210.97 , 210.761, 211.374, 210.714, 210.635, 211.125, 210.759,\n",
       "       211.249, 211.281, 211.18 , 210.532, 211.364, 210.781, 210.938,\n",
       "       211.075, 211.464, 211.143, 210.87 , 210.563, 211.176, 210.867,\n",
       "       210.633, 212.015, 210.774, 211.02 , 211.186, 210.293, 210.683,\n",
       "       210.748, 211.597, 210.747, 210.592, 211.052, 211.22 , 211.123,\n",
       "       210.114, 211.017, 210.488, 210.73 , 211.408, 210.64 , 210.493,\n",
       "       211.083, 210.427, 210.99 , 211.157, 211.325, 210.859, 211.925,\n",
       "       210.812, 211.772, 210.299, 211.428, 210.583, 210.342, 211.209,\n",
       "       211.01 , 211.066, 211.778, 210.156, 211.269, 211.29 , 211.643,\n",
       "       211.882, 211.113, 211.057, 211.366, 210.889, 210.747, 210.601,\n",
       "       211.33 , 210.229, 211.104, 210.844, 210.798, 210.945, 211.947,\n",
       "       210.824, 211.231, 211.466, 210.94 , 211.027, 210.894, 211.303,\n",
       "       210.094, 210.847, 211.115, 210.374, 211.36 , 210.856, 210.295,\n",
       "       210.845, 211.561, 210.95 , 210.858])"
      ]
     },
     "execution_count": 4,
     "metadata": {},
     "output_type": "execute_result"
    }
   ],
   "source": [
    "frame_mu, frame_sigma = 211.0, 0.383 # assign frame mean and standard deviation\n",
    "frame_width = rg.normal(frame_mu, frame_sigma, 200) # simulate hole diameter variable using normal distribution\n",
    "frame_width"
   ]
  },
  {
   "cell_type": "markdown",
   "metadata": {},
   "source": [
    "Now that all the random data has been simulated the relating gap clearances can be calculated using the formula  \n",
    "Clearance Gap(mm) = Frame(mm) - (Bearing A(mm) + Stator(mm) + Bearing B(mm)).  \n",
    "Numpy will create a np.array with the 200 results"
   ]
  },
  {
   "cell_type": "code",
   "execution_count": 5,
   "metadata": {},
   "outputs": [
    {
     "data": {
      "text/plain": [
       "array([ 0.584,  1.67 ,  1.104,  1.172,  1.316,  0.26 ,  2.408,  0.563,\n",
       "        1.725,  1.83 ,  2.287,  1.306,  0.254,  0.474,  1.309,  0.73 ,\n",
       "        0.91 ,  2.267, -0.322,  1.856,  0.745,  0.666,  0.745,  1.828,\n",
       "       -0.478,  2.006,  0.774,  1.088,  0.099,  0.608,  1.526,  1.341,\n",
       "        1.309,  1.594,  0.413,  0.054,  0.367, -0.11 ,  2.121, -0.6  ,\n",
       "        0.63 ,  1.196, -0.487,  1.338,  1.972,  1.395,  1.923,  1.554,\n",
       "        1.614,  1.381,  1.04 ,  1.053,  0.912,  1.559,  0.941,  1.561,\n",
       "        0.082,  1.727,  1.461,  1.443,  0.928,  0.617,  0.56 ,  1.457,\n",
       "        0.877,  1.769,  0.486,  1.814,  1.674,  1.431,  1.132,  0.517,\n",
       "        1.359,  1.441,  1.723,  2.068,  1.311,  1.248,  0.442,  1.372,\n",
       "        1.475, -0.176,  1.344,  1.066, -0.367,  1.226,  1.21 ,  0.705,\n",
       "        0.649,  1.658,  1.617,  0.97 ,  1.659,  1.46 ,  0.544,  0.961,\n",
       "        1.569,  1.291,  1.288,  1.338,  0.305,  0.82 ,  0.114,  1.13 ,\n",
       "        0.533,  0.258,  1.615,  2.517,  0.519,  1.012,  1.675,  0.335,\n",
       "        1.308,  0.674,  1.384,  2.099,  0.618,  0.8  ,  1.315,  1.274,\n",
       "        1.368,  1.248,  0.662,  0.573,  0.595,  1.99 ,  1.084,  3.248,\n",
       "        1.027,  0.436,  1.111,  0.977, -0.238,  0.378,  1.504,  1.24 ,\n",
       "        0.439,  1.128,  1.417,  2.007, -0.368,  0.672,  0.028,  0.101,\n",
       "        1.281,  1.087,  0.567,  1.272,  0.275,  0.662,  1.326,  2.106,\n",
       "        1.147,  1.882,  0.718,  1.471, -0.447,  2.855,  0.027,  0.709,\n",
       "        1.261,  0.64 ,  0.982,  2.733, -0.05 ,  1.151,  1.627,  1.326,\n",
       "        2.8  ,  0.922,  2.102,  2.532,  0.982,  0.133,  1.125,  0.645,\n",
       "       -0.266,  0.741,  1.333,  1.28 ,  1.78 ,  2.254,  0.561,  1.036,\n",
       "        1.839,  1.45 ,  1.55 ,  0.75 ,  1.539,  0.159,  1.025,  1.245,\n",
       "        0.718,  1.247,  1.34 ,  0.798,  1.068,  1.622,  0.844,  0.644])"
      ]
     },
     "execution_count": 5,
     "metadata": {},
     "output_type": "execute_result"
    }
   ],
   "source": [
    "#calculate the clearance gap for each combination of assembly parts\n",
    "clearance_gap = frame_width - (bearing_width_A + stator_length + bearing_width_B)\n",
    "clearance_gap"
   ]
  },
  {
   "cell_type": "markdown",
   "metadata": {},
   "source": [
    "### Create a Panadas DataFrame of the variables\n",
    "[Pandas.DataFrame](https://pandas.pydata.org/pandas-docs/stable/reference/api/pandas.DataFrame.html)\n",
    "A Pandas DataFrame can be created from a Dictionary of the NumPy arrays that were created. At this point the columns associated with the variables will be given names."
   ]
  },
  {
   "cell_type": "code",
   "execution_count": 6,
   "metadata": {},
   "outputs": [
    {
     "data": {
      "text/html": [
       "<div>\n",
       "<style scoped>\n",
       "    .dataframe tbody tr th:only-of-type {\n",
       "        vertical-align: middle;\n",
       "    }\n",
       "\n",
       "    .dataframe tbody tr th {\n",
       "        vertical-align: top;\n",
       "    }\n",
       "\n",
       "    .dataframe thead th {\n",
       "        text-align: right;\n",
       "    }\n",
       "</style>\n",
       "<table border=\"1\" class=\"dataframe\">\n",
       "  <thead>\n",
       "    <tr style=\"text-align: right;\">\n",
       "      <th></th>\n",
       "      <th>BearingA</th>\n",
       "      <th>StatorLength</th>\n",
       "      <th>BearingB</th>\n",
       "      <th>FrameWidth</th>\n",
       "      <th>Clearance</th>\n",
       "    </tr>\n",
       "  </thead>\n",
       "  <tbody>\n",
       "    <tr>\n",
       "      <th>0</th>\n",
       "      <td>14.936</td>\n",
       "      <td>179.545</td>\n",
       "      <td>14.978</td>\n",
       "      <td>210.042</td>\n",
       "      <td>0.584</td>\n",
       "    </tr>\n",
       "    <tr>\n",
       "      <th>1</th>\n",
       "      <td>14.981</td>\n",
       "      <td>179.383</td>\n",
       "      <td>14.998</td>\n",
       "      <td>211.032</td>\n",
       "      <td>1.670</td>\n",
       "    </tr>\n",
       "    <tr>\n",
       "      <th>2</th>\n",
       "      <td>14.945</td>\n",
       "      <td>180.365</td>\n",
       "      <td>14.914</td>\n",
       "      <td>211.327</td>\n",
       "      <td>1.104</td>\n",
       "    </tr>\n",
       "    <tr>\n",
       "      <th>3</th>\n",
       "      <td>14.971</td>\n",
       "      <td>179.491</td>\n",
       "      <td>14.950</td>\n",
       "      <td>210.584</td>\n",
       "      <td>1.172</td>\n",
       "    </tr>\n",
       "    <tr>\n",
       "      <th>4</th>\n",
       "      <td>14.943</td>\n",
       "      <td>180.239</td>\n",
       "      <td>14.937</td>\n",
       "      <td>211.435</td>\n",
       "      <td>1.316</td>\n",
       "    </tr>\n",
       "    <tr>\n",
       "      <th>...</th>\n",
       "      <td>...</td>\n",
       "      <td>...</td>\n",
       "      <td>...</td>\n",
       "      <td>...</td>\n",
       "      <td>...</td>\n",
       "    </tr>\n",
       "    <tr>\n",
       "      <th>195</th>\n",
       "      <td>14.978</td>\n",
       "      <td>179.544</td>\n",
       "      <td>14.975</td>\n",
       "      <td>210.295</td>\n",
       "      <td>0.798</td>\n",
       "    </tr>\n",
       "    <tr>\n",
       "      <th>196</th>\n",
       "      <td>14.972</td>\n",
       "      <td>179.843</td>\n",
       "      <td>14.962</td>\n",
       "      <td>210.845</td>\n",
       "      <td>1.068</td>\n",
       "    </tr>\n",
       "    <tr>\n",
       "      <th>197</th>\n",
       "      <td>14.926</td>\n",
       "      <td>180.051</td>\n",
       "      <td>14.963</td>\n",
       "      <td>211.561</td>\n",
       "      <td>1.622</td>\n",
       "    </tr>\n",
       "    <tr>\n",
       "      <th>198</th>\n",
       "      <td>14.964</td>\n",
       "      <td>180.176</td>\n",
       "      <td>14.966</td>\n",
       "      <td>210.950</td>\n",
       "      <td>0.844</td>\n",
       "    </tr>\n",
       "    <tr>\n",
       "      <th>199</th>\n",
       "      <td>14.969</td>\n",
       "      <td>180.312</td>\n",
       "      <td>14.933</td>\n",
       "      <td>210.858</td>\n",
       "      <td>0.644</td>\n",
       "    </tr>\n",
       "  </tbody>\n",
       "</table>\n",
       "<p>200 rows × 5 columns</p>\n",
       "</div>"
      ],
      "text/plain": [
       "     BearingA  StatorLength  BearingB  FrameWidth  Clearance\n",
       "0      14.936       179.545    14.978     210.042      0.584\n",
       "1      14.981       179.383    14.998     211.032      1.670\n",
       "2      14.945       180.365    14.914     211.327      1.104\n",
       "3      14.971       179.491    14.950     210.584      1.172\n",
       "4      14.943       180.239    14.937     211.435      1.316\n",
       "..        ...           ...       ...         ...        ...\n",
       "195    14.978       179.544    14.975     210.295      0.798\n",
       "196    14.972       179.843    14.962     210.845      1.068\n",
       "197    14.926       180.051    14.963     211.561      1.622\n",
       "198    14.964       180.176    14.966     210.950      0.844\n",
       "199    14.969       180.312    14.933     210.858      0.644\n",
       "\n",
       "[200 rows x 5 columns]"
      ]
     },
     "execution_count": 6,
     "metadata": {},
     "output_type": "execute_result"
    }
   ],
   "source": [
    "d = {'BearingA': bearing_width_A, 'StatorLength': stator_length, 'BearingB': bearing_width_B, 'FrameWidth': frame_width, 'Clearance': clearance_gap}\n",
    "df = pd.DataFrame(data=d)\n",
    "df"
   ]
  },
  {
   "cell_type": "code",
   "execution_count": 7,
   "metadata": {},
   "outputs": [
    {
     "data": {
      "text/html": [
       "<div>\n",
       "<style scoped>\n",
       "    .dataframe tbody tr th:only-of-type {\n",
       "        vertical-align: middle;\n",
       "    }\n",
       "\n",
       "    .dataframe tbody tr th {\n",
       "        vertical-align: top;\n",
       "    }\n",
       "\n",
       "    .dataframe thead th {\n",
       "        text-align: right;\n",
       "    }\n",
       "</style>\n",
       "<table border=\"1\" class=\"dataframe\">\n",
       "  <thead>\n",
       "    <tr style=\"text-align: right;\">\n",
       "      <th></th>\n",
       "      <th>BearingA</th>\n",
       "      <th>StatorLength</th>\n",
       "      <th>BearingB</th>\n",
       "      <th>FrameWidth</th>\n",
       "      <th>Clearance</th>\n",
       "    </tr>\n",
       "  </thead>\n",
       "  <tbody>\n",
       "    <tr>\n",
       "      <th>count</th>\n",
       "      <td>200.000</td>\n",
       "      <td>200.000</td>\n",
       "      <td>200.000</td>\n",
       "      <td>200.000</td>\n",
       "      <td>200.000</td>\n",
       "    </tr>\n",
       "    <tr>\n",
       "      <th>mean</th>\n",
       "      <td>14.960</td>\n",
       "      <td>180.011</td>\n",
       "      <td>14.960</td>\n",
       "      <td>211.017</td>\n",
       "      <td>1.086</td>\n",
       "    </tr>\n",
       "    <tr>\n",
       "      <th>std</th>\n",
       "      <td>0.021</td>\n",
       "      <td>0.514</td>\n",
       "      <td>0.019</td>\n",
       "      <td>0.404</td>\n",
       "      <td>0.689</td>\n",
       "    </tr>\n",
       "    <tr>\n",
       "      <th>min</th>\n",
       "      <td>14.903</td>\n",
       "      <td>178.521</td>\n",
       "      <td>14.901</td>\n",
       "      <td>210.042</td>\n",
       "      <td>-0.600</td>\n",
       "    </tr>\n",
       "    <tr>\n",
       "      <th>25%</th>\n",
       "      <td>14.945</td>\n",
       "      <td>179.633</td>\n",
       "      <td>14.949</td>\n",
       "      <td>210.774</td>\n",
       "      <td>0.638</td>\n",
       "    </tr>\n",
       "    <tr>\n",
       "      <th>50%</th>\n",
       "      <td>14.960</td>\n",
       "      <td>180.056</td>\n",
       "      <td>14.962</td>\n",
       "      <td>211.024</td>\n",
       "      <td>1.131</td>\n",
       "    </tr>\n",
       "    <tr>\n",
       "      <th>75%</th>\n",
       "      <td>14.974</td>\n",
       "      <td>180.361</td>\n",
       "      <td>14.973</td>\n",
       "      <td>211.283</td>\n",
       "      <td>1.482</td>\n",
       "    </tr>\n",
       "    <tr>\n",
       "      <th>max</th>\n",
       "      <td>15.014</td>\n",
       "      <td>181.505</td>\n",
       "      <td>15.005</td>\n",
       "      <td>212.258</td>\n",
       "      <td>3.248</td>\n",
       "    </tr>\n",
       "  </tbody>\n",
       "</table>\n",
       "</div>"
      ],
      "text/plain": [
       "       BearingA  StatorLength  BearingB  FrameWidth  Clearance\n",
       "count   200.000       200.000   200.000     200.000    200.000\n",
       "mean     14.960       180.011    14.960     211.017      1.086\n",
       "std       0.021         0.514     0.019       0.404      0.689\n",
       "min      14.903       178.521    14.901     210.042     -0.600\n",
       "25%      14.945       179.633    14.949     210.774      0.638\n",
       "50%      14.960       180.056    14.962     211.024      1.131\n",
       "75%      14.974       180.361    14.973     211.283      1.482\n",
       "max      15.014       181.505    15.005     212.258      3.248"
      ]
     },
     "execution_count": 7,
     "metadata": {},
     "output_type": "execute_result"
    }
   ],
   "source": [
    "df.describe()"
   ]
  },
  {
   "cell_type": "code",
   "execution_count": null,
   "metadata": {},
   "outputs": [],
   "source": []
  },
  {
   "cell_type": "code",
   "execution_count": null,
   "metadata": {},
   "outputs": [],
   "source": []
  },
  {
   "cell_type": "code",
   "execution_count": null,
   "metadata": {},
   "outputs": [],
   "source": []
  },
  {
   "cell_type": "code",
   "execution_count": null,
   "metadata": {},
   "outputs": [],
   "source": []
  },
  {
   "cell_type": "code",
   "execution_count": null,
   "metadata": {},
   "outputs": [],
   "source": [
    "count, bins, ignored = plt.hist(hole_diameter, 30, density=True)\n",
    "plt.plot(bins, 1/(sigma * np.sqrt(2 * np.pi)) *\n",
    "               np.exp( - (bins - mu)**2 / (2 * sigma**2) ),\n",
    "         linewidth=2, color='r')\n",
    "plt.show()"
   ]
  },
  {
   "cell_type": "code",
   "execution_count": null,
   "metadata": {},
   "outputs": [],
   "source": []
  },
  {
   "cell_type": "markdown",
   "metadata": {},
   "source": [
    "#### References\n",
    "[1] Design Society Publication; pdf in repo <br />\n",
    "[2] Tolerance Analysis wiki; https://en.wikipedia.org/wiki/Tolerance_analysis <br />\n",
    "[3] Monte Carlo Method wiki; https://en.wikipedia.org/wiki/Monte_Carlo_method <br />\n",
    "[4] SKF Bearing Catalogue. Bearing 6304; https://www.skf.com/binaries/pub12/Images/0901d196807026e8-100-700_SKF_bearings_and_mounted_products_2018_tcm_12-314117.pdf <br />\n",
    "[5] International Tolerance (IT) Grade Table; https://www.engineersedge.com/international_tol.htm <br />\n",
    "\n",
    "Links\n",
    "https://www.engineeringtoolbox.com/metric-threads-d_777.html\n",
    "https://www.engineersedge.com/international_tol.htm\n",
    "https://www.maford.com/SiteContent/Documents//2018_catalog_sections//MAFord_2018_Master_Catalog_HP_Drill_%20Selection_Chart.pdf"
   ]
  },
  {
   "cell_type": "code",
   "execution_count": null,
   "metadata": {},
   "outputs": [],
   "source": []
  }
 ],
 "metadata": {
  "kernelspec": {
   "display_name": "Python 3",
   "language": "python",
   "name": "python3"
  },
  "language_info": {
   "codemirror_mode": {
    "name": "ipython",
    "version": 3
   },
   "file_extension": ".py",
   "mimetype": "text/x-python",
   "name": "python",
   "nbconvert_exporter": "python",
   "pygments_lexer": "ipython3",
   "version": "3.8.5"
  }
 },
 "nbformat": 4,
 "nbformat_minor": 4
}
