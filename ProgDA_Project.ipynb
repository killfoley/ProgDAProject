{
 "cells": [
  {
   "cell_type": "markdown",
   "metadata": {},
   "source": [
    "## Programming for Data Analysis Project Notebook 2020 - Killian Foley\n",
    "### Problem Statement\n",
    "Manufacturing engineer performing a simulation on drilling of a hole in a workpiece to be tapped for an M8 x 1.25 thread screw in a future process. Rework is not acceptable so 1 iteration of drilling only. \n",
    "From reference \"https://www.engineeringtoolbox.com/metric-threads-d_777.html\" - we find tap size is 6.8mm with tolerance grade of IT7/H7 (https://www.engineersedge.com/international_tol.htm) so minimum hole diamter is 6.8mm and maximum hole diamter is 6.815 mm anything outside of.\n",
    "Drill bit tolerance from manufacturers specification sheet - https://www.maford.com/SiteContent/Documents//2018_catalog_sections//MAFord_2018_Master_Catalog_HP_Drill_%20Selection_Chart.pdf - IT7/h7  6.8 +0/ -0.015mm. \n",
    "\n",
    "Drilling - Cutting process where the drill \n",
    "\n",
    "#### Variables Explained\n",
    "Is the hole within tolerance = \"pass\" (True or False)  \n",
    "Drill bit starting diameter in mm = \"drill_diameter\" (mm)  \n",
    "Number of cycles of drill bit = \"cycles\" (unit less number)  \n",
    "Hole diameter = \"hole_diameter\" = (mm)"
   ]
  },
  {
   "cell_type": "code",
   "execution_count": 1,
   "metadata": {},
   "outputs": [
    {
     "data": {
      "text/plain": [
       "array([6.809, 6.813, 6.805, 6.803, 6.81 , 6.808, 6.809, 6.803, 6.813,\n",
       "       6.814, 6.808, 6.805, 6.803, 6.814, 6.8  , 6.809, 6.803, 6.813,\n",
       "       6.808, 6.814, 6.811, 6.802, 6.815, 6.806, 6.805, 6.815, 6.802,\n",
       "       6.812, 6.805, 6.804, 6.8  , 6.801, 6.813, 6.812, 6.812, 6.812,\n",
       "       6.804, 6.814, 6.814, 6.808, 6.808, 6.809, 6.807, 6.811, 6.808,\n",
       "       6.813, 6.809, 6.803, 6.803, 6.813, 6.813, 6.804, 6.808, 6.809,\n",
       "       6.806, 6.806, 6.8  , 6.814, 6.813, 6.813, 6.811, 6.812, 6.811,\n",
       "       6.801, 6.815, 6.805, 6.807, 6.803, 6.815, 6.807, 6.808, 6.802,\n",
       "       6.809, 6.809, 6.814, 6.811, 6.812, 6.801, 6.811, 6.806, 6.813,\n",
       "       6.804, 6.801, 6.812, 6.807, 6.805, 6.804, 6.803, 6.811, 6.803,\n",
       "       6.801, 6.811, 6.803, 6.813, 6.805, 6.804, 6.813, 6.808, 6.806,\n",
       "       6.811])"
      ]
     },
     "execution_count": 1,
     "metadata": {},
     "output_type": "execute_result"
    }
   ],
   "source": [
    "#start by importing libraries\n",
    "import numpy as np\n",
    "import pandas as pd\n",
    "import matplotlib as plt\n",
    "import seaborn as sns\n",
    "%matplotlib inline\n",
    "\n",
    "# set Numpy precision to 3 decimal places due to practical measurement accuracies\n",
    "np.set_printoptions(precision=3)\n",
    "\n",
    "#setting the random generator so results can be reproduced\n",
    "\n",
    "from numpy.random import default_rng\n",
    "rg = default_rng(135792468)\n",
    "\n",
    "#Generating drill diameter data\n",
    "drill_diameter = rg.uniform(6.8,6.815,100)\n",
    "drill_diameter"
   ]
  }
 ],
 "metadata": {
  "kernelspec": {
   "display_name": "Python 3",
   "language": "python",
   "name": "python3"
  },
  "language_info": {
   "codemirror_mode": {
    "name": "ipython",
    "version": 3
   },
   "file_extension": ".py",
   "mimetype": "text/x-python",
   "name": "python",
   "nbconvert_exporter": "python",
   "pygments_lexer": "ipython3",
   "version": "3.8.5"
  }
 },
 "nbformat": 4,
 "nbformat_minor": 4
}
