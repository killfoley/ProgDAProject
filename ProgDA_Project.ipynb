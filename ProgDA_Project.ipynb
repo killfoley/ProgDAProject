{
 "cells": [
  {
   "cell_type": "markdown",
   "metadata": {},
   "source": [
    "## Programming for Data Analysis Project Notebook 2020 - Killian Foley\n",
    "### Problem Statement\n",
    "Manufacturing engineer performing a simulation on drilling of a hole in a workpiece to be tapped for an M8 x 1.25 thread screw in a future process. Rework is not acceptable so 1 iteration of drilling only. \n",
    "From reference \"https://www.engineeringtoolbox.com/metric-threads-d_777.html\" - we find tap size is 6.8mm with tolerance grade of IT7/H7 (https://www.engineersedge.com/international_tol.htm) so minimum hole diamter is 6.8mm and maximum hole diamter is 6.815 mm anything outside of.\n",
    "Drill bit tolerance from manufacturers specification sheet - https://www.maford.com/SiteContent/Documents//2018_catalog_sections//MAFord_2018_Master_Catalog_HP_Drill_%20Selection_Chart.pdf - IT7/h7  6.8 +0/ -0.015mm. \n",
    "\n",
    "Drilling - Cutting process where the drill \n",
    "\n",
    "#### Variables Explained\n",
    "Is the hole within tolerance = \"accepted\" (True or False)  \n",
    "Drill bit starting diameter in mm = \"drill_diameter\" (mm)  \n",
    "Number of cycles of drill bit = \"cycles\" (unit less number)  \n",
    "Hole diameter = \"hole_diameter\" = (mm)"
   ]
  },
  {
   "cell_type": "code",
   "execution_count": 1,
   "metadata": {},
   "outputs": [
    {
     "data": {
      "text/plain": [
       "array([6.809, 6.813, 6.805, 6.803, 6.81 , 6.808, 6.809, 6.803, 6.813,\n",
       "       6.814, 6.808, 6.805, 6.803, 6.814, 6.8  , 6.809, 6.803, 6.813,\n",
       "       6.808, 6.814, 6.811, 6.802, 6.815, 6.806, 6.805, 6.815, 6.802,\n",
       "       6.812, 6.805, 6.804, 6.8  , 6.801, 6.813, 6.812, 6.812, 6.812,\n",
       "       6.804, 6.814, 6.814, 6.808, 6.808, 6.809, 6.807, 6.811, 6.808,\n",
       "       6.813, 6.809, 6.803, 6.803, 6.813, 6.813, 6.804, 6.808, 6.809,\n",
       "       6.806, 6.806, 6.8  , 6.814, 6.813, 6.813, 6.811, 6.812, 6.811,\n",
       "       6.801, 6.815, 6.805, 6.807, 6.803, 6.815, 6.807, 6.808, 6.802,\n",
       "       6.809, 6.809, 6.814, 6.811, 6.812, 6.801, 6.811, 6.806, 6.813,\n",
       "       6.804, 6.801, 6.812, 6.807, 6.805, 6.804, 6.803, 6.811, 6.803,\n",
       "       6.801, 6.811, 6.803, 6.813, 6.805, 6.804, 6.813, 6.808, 6.806,\n",
       "       6.811])"
      ]
     },
     "execution_count": 1,
     "metadata": {},
     "output_type": "execute_result"
    }
   ],
   "source": [
    "#start by importing libraries\n",
    "import numpy as np\n",
    "import pandas as pd\n",
    "import matplotlib.pyplot as plt\n",
    "import seaborn as sns\n",
    "%matplotlib inline\n",
    "\n",
    "# set Numpy precision to 3 decimal places due to practical measurement accuracies\n",
    "np.set_printoptions(precision=3)\n",
    "\n",
    "#setting the random generator so results can be reproduced\n",
    "\n",
    "from numpy.random import default_rng\n",
    "rg = default_rng(135792468)\n",
    "\n",
    "#Generating drill diameter data\n",
    "drill_diameter = rg.uniform(6.8,6.815,100) #simulate drill diamaters using normal distribution\n",
    "drill_diameter"
   ]
  },
  {
   "cell_type": "markdown",
   "metadata": {},
   "source": [
    "As the manufacturing facilty employs Six Sigma techniques the manufacturing yield will be designed to these paramters that is the upper and lower limits will be +3 and -3 standard deviations respectively with the distribution centred around the halfway point.  \n",
    "https://en.wikipedia.org/wiki/Six_Sigma"
   ]
  },
  {
   "cell_type": "code",
   "execution_count": 2,
   "metadata": {},
   "outputs": [
    {
     "data": {
      "text/plain": [
       "array([6.002, 6.009, 6.008, 6.008, 6.006, 6.011, 6.005, 6.004, 6.007,\n",
       "       6.008, 6.005, 6.004, 6.004, 6.011, 6.002, 6.007, 6.008, 6.007,\n",
       "       6.011, 6.007, 6.01 , 6.008, 6.002, 6.007, 6.003, 6.009, 6.01 ,\n",
       "       6.005, 6.009, 6.01 , 6.011, 6.009, 6.007, 6.009, 6.006, 6.005,\n",
       "       6.006, 6.007, 6.01 , 6.011, 6.007, 6.004, 6.01 , 6.011, 6.006,\n",
       "       6.009, 6.007, 6.008, 6.007, 6.011, 6.009, 6.007, 6.004, 6.008,\n",
       "       6.006, 6.005, 6.008, 6.008, 6.009, 6.009, 6.007, 6.004, 6.004,\n",
       "       6.01 , 6.006, 6.003, 6.004, 6.006, 6.002, 6.009, 6.007, 6.007,\n",
       "       6.007, 6.004, 6.012, 6.004, 6.013, 6.006, 6.008, 6.009, 6.007,\n",
       "       6.01 , 6.007, 6.013, 6.006, 6.008, 6.007, 6.008, 6.008, 6.007,\n",
       "       6.006, 6.009, 6.013, 6.008, 6.009, 6.013, 6.007, 6.01 , 6.009,\n",
       "       6.003, 6.008, 6.009, 6.01 , 6.012, 6.002, 6.006, 6.005, 6.007,\n",
       "       6.006, 6.007, 6.013, 6.008, 6.008, 6.01 , 6.007, 6.007, 6.008,\n",
       "       6.006, 6.01 , 6.006, 6.006, 6.007, 6.007, 6.006, 6.008, 6.008,\n",
       "       6.009, 6.012, 6.011, 6.007, 6.006, 6.009, 6.01 , 6.006, 6.012,\n",
       "       6.008, 6.008, 6.01 , 6.012, 6.009, 6.011, 6.009, 6.006, 6.011,\n",
       "       6.006, 6.005, 6.008, 6.01 , 6.008, 6.008, 6.008, 6.003, 6.008,\n",
       "       6.01 , 6.011, 6.009, 6.009, 6.004, 6.01 , 6.008, 6.011, 6.007,\n",
       "       6.006, 6.005, 6.004, 6.006, 6.009, 6.007, 6.01 , 6.008, 6.005,\n",
       "       6.009, 6.009, 6.01 , 6.006, 6.007, 6.009, 6.008, 6.006, 6.009,\n",
       "       6.007, 6.005, 6.01 , 6.008, 6.007, 6.01 , 6.01 , 6.008, 6.009,\n",
       "       6.01 , 6.007, 6.009, 6.007, 6.007, 6.005, 6.009, 6.008, 6.004,\n",
       "       6.008, 6.008, 6.006, 6.003, 6.009, 6.009, 6.006, 6.01 , 6.009,\n",
       "       6.011, 6.004, 6.005, 6.   , 6.01 , 6.007, 6.007, 6.004, 6.007,\n",
       "       6.006, 6.007, 6.008, 6.004, 6.008, 6.006, 6.004, 6.008, 6.01 ,\n",
       "       6.01 , 6.003, 6.006, 6.013, 6.008, 6.01 , 6.008, 6.005, 6.008,\n",
       "       6.009, 6.008, 6.009, 6.01 , 6.008, 6.007, 6.01 , 6.004, 6.009,\n",
       "       6.009, 6.012, 6.01 , 6.005, 6.005, 6.004, 6.007, 6.01 , 6.003,\n",
       "       6.009, 6.007, 6.006, 6.009, 6.006, 6.01 , 6.009, 6.007, 6.009,\n",
       "       6.004, 6.006, 6.009, 6.008, 6.007, 6.008, 6.01 , 6.006, 6.006,\n",
       "       6.007, 6.011, 6.006, 6.005, 6.006, 6.004, 6.007, 6.005, 6.01 ,\n",
       "       6.009, 6.005, 6.011, 6.002, 6.01 , 6.008, 6.004, 6.01 , 6.002,\n",
       "       6.008, 6.007, 6.009, 6.006, 6.003, 6.007, 6.005, 6.004, 6.009,\n",
       "       6.009, 6.008, 6.008, 6.008, 6.004, 6.005, 6.005, 6.009, 6.005,\n",
       "       6.009, 6.012, 6.003, 6.008, 6.006, 6.006, 6.006, 6.005, 6.01 ,\n",
       "       6.01 , 6.007, 6.011, 6.007, 6.005, 6.015, 6.005, 6.009, 6.009,\n",
       "       6.009, 6.006, 6.01 , 6.003, 6.009, 6.009, 6.012, 6.009, 6.006,\n",
       "       6.005, 6.006, 6.007, 6.008, 6.011, 6.007, 6.012, 6.004, 6.013,\n",
       "       6.009, 6.008, 6.011, 6.008, 6.004, 6.008, 6.009, 6.006, 6.005,\n",
       "       6.006, 6.008, 6.008, 6.01 , 6.007, 6.009, 6.007, 6.011, 6.004,\n",
       "       6.005, 6.008, 6.009, 6.011, 6.009, 6.006, 6.01 , 6.004, 6.008,\n",
       "       6.005, 6.006, 6.007, 6.009, 6.009, 6.008, 6.007, 6.005, 6.005,\n",
       "       6.006, 6.007, 6.011, 6.006, 6.009, 6.009, 6.009, 6.008, 6.011,\n",
       "       6.006, 6.005, 6.01 , 6.009, 6.009, 6.005, 6.007, 6.003, 6.006,\n",
       "       6.008, 6.009, 6.007, 6.008, 6.011, 6.007, 6.009, 6.01 , 6.011,\n",
       "       6.007, 6.009, 6.011, 6.004, 6.003, 6.009, 6.006, 6.005, 6.01 ,\n",
       "       6.008, 6.011, 6.007, 6.001, 6.011, 6.008, 6.006, 6.007, 6.009,\n",
       "       6.007, 6.009, 6.008, 6.011, 6.003, 6.006, 6.002, 6.006, 6.011,\n",
       "       6.008, 6.005, 6.012, 6.01 , 6.008, 6.006, 6.008, 6.007, 6.007,\n",
       "       6.004, 6.01 , 6.009, 6.01 , 6.011, 6.009, 6.006, 6.008, 6.007,\n",
       "       6.008, 6.01 , 6.007, 6.004, 6.007, 6.008, 6.008, 6.009, 6.011,\n",
       "       6.001, 6.01 , 6.006, 6.008, 6.009, 6.008, 6.004, 6.009, 6.008,\n",
       "       6.007, 6.009, 6.004, 6.009, 6.003, 6.003, 6.007, 6.011, 6.005,\n",
       "       6.011, 6.01 , 6.009, 6.006, 6.005, 6.004, 6.006, 6.009, 6.009,\n",
       "       6.006, 6.006, 6.005, 6.009, 6.007, 6.008, 6.007, 6.007, 6.006,\n",
       "       6.008, 6.006, 6.005, 6.007, 6.008, 6.008, 6.009, 6.001, 6.008,\n",
       "       6.01 , 6.005, 6.01 , 6.008, 6.01 , 6.006, 6.009, 6.01 , 6.013,\n",
       "       6.005, 6.006, 6.008, 6.008, 6.009, 6.006, 6.012, 6.008, 6.009,\n",
       "       6.008, 6.007, 6.007, 6.011, 6.001, 6.007, 6.007, 6.009, 6.007,\n",
       "       6.007, 6.008, 6.006, 6.007, 6.01 , 6.004, 6.006, 6.002, 6.006,\n",
       "       6.009, 6.004, 6.007, 6.009, 6.002, 6.01 , 6.009, 6.011, 6.016,\n",
       "       6.009, 6.008, 6.007, 6.008, 6.008, 6.01 , 6.009, 6.009, 6.01 ,\n",
       "       6.006, 6.007, 6.007, 6.011, 6.008, 6.009, 6.006, 6.008, 6.01 ,\n",
       "       6.007, 6.004, 6.009, 6.009, 6.01 , 6.01 , 6.006, 6.01 , 6.009,\n",
       "       6.008, 6.011, 6.006, 6.008, 6.008, 6.007, 6.012, 6.002, 6.011,\n",
       "       6.008, 6.003, 6.006, 6.005, 6.008, 6.007, 6.013, 6.007, 6.007,\n",
       "       6.005, 6.007, 6.005, 6.009, 6.01 , 6.009, 6.013, 6.009, 6.004,\n",
       "       6.01 , 6.006, 6.008, 6.006, 6.007, 6.006, 6.01 , 6.006, 6.005,\n",
       "       6.008, 6.006, 6.009, 6.009, 6.009, 6.004, 6.01 , 6.006, 6.007,\n",
       "       6.008, 6.011, 6.008, 6.007, 6.005, 6.009, 6.007, 6.005, 6.014,\n",
       "       6.006, 6.008, 6.009, 6.003, 6.005, 6.006, 6.011, 6.006, 6.005,\n",
       "       6.008, 6.009, 6.008, 6.002, 6.008, 6.004, 6.006, 6.01 , 6.005,\n",
       "       6.004, 6.008, 6.004, 6.007, 6.009, 6.01 , 6.007, 6.014, 6.006,\n",
       "       6.013, 6.003, 6.01 , 6.005, 6.003, 6.009, 6.008, 6.008, 6.013,\n",
       "       6.002, 6.009, 6.009, 6.012, 6.013, 6.008, 6.008, 6.01 , 6.007,\n",
       "       6.006, 6.005, 6.01 , 6.002, 6.008, 6.006, 6.006, 6.007, 6.014,\n",
       "       6.006, 6.009, 6.011, 6.007, 6.008, 6.007, 6.009, 6.002, 6.006,\n",
       "       6.008, 6.003, 6.01 , 6.007, 6.003, 6.006, 6.011, 6.007, 6.007,\n",
       "       6.006, 6.008, 6.006, 6.004, 6.007, 6.01 , 6.009, 6.009, 6.011,\n",
       "       6.008, 6.01 , 6.004, 6.01 , 6.005, 6.008, 6.009, 6.008, 6.006,\n",
       "       6.005, 6.012, 6.005, 6.008, 6.002, 6.006, 6.006, 6.009, 6.001,\n",
       "       6.014, 6.011, 6.005, 6.006, 6.007, 6.008, 6.009, 6.007, 6.009,\n",
       "       6.006, 6.008, 6.006, 6.008, 6.013, 6.008, 6.007, 6.01 , 6.001,\n",
       "       6.006, 6.009, 6.005, 6.007, 6.006, 6.003, 6.007, 6.006, 6.007,\n",
       "       6.008, 6.004, 6.008, 6.009, 6.011, 6.011, 6.006, 6.01 , 6.006,\n",
       "       6.004, 6.007, 6.004, 6.009, 6.006, 6.007, 6.007, 6.004, 6.007,\n",
       "       6.005, 6.006, 6.007, 6.009, 6.008, 6.012, 6.012, 6.007, 6.009,\n",
       "       6.007, 6.007, 6.007, 6.007, 6.007, 6.001, 6.008, 6.008, 6.004,\n",
       "       6.007, 6.005, 6.004, 6.007, 6.012, 6.007, 6.011, 6.008, 6.009,\n",
       "       6.006, 6.005, 6.006, 6.009, 6.002, 6.009, 6.003, 6.008, 6.003,\n",
       "       6.007, 6.008, 6.007, 6.004, 6.009, 6.006, 6.008, 6.007, 6.009,\n",
       "       6.005, 6.006, 6.009, 6.009, 6.011, 6.009, 6.005, 6.012, 6.009,\n",
       "       6.009, 6.011, 6.007, 6.009, 6.009, 6.007, 6.009, 6.004, 6.005,\n",
       "       6.005, 6.009, 6.008, 6.011, 6.005, 6.006, 6.011, 6.008, 6.007,\n",
       "       6.01 , 6.008, 6.01 , 6.012, 6.005, 6.01 , 6.009, 6.006, 6.007,\n",
       "       6.01 , 6.01 , 6.01 , 6.003, 6.007, 6.009, 6.005, 6.007, 6.004,\n",
       "       6.006, 6.007, 6.007, 6.011, 6.004, 6.009, 6.008, 6.005, 6.003,\n",
       "       6.008, 6.013, 6.01 , 6.009, 6.007, 6.006, 6.008, 6.008, 6.008,\n",
       "       6.008, 6.011, 6.005, 6.005, 6.007, 6.   , 6.003, 6.008, 6.003,\n",
       "       6.01 , 6.011, 6.006, 6.005, 6.004, 6.01 , 6.003, 6.004, 6.007,\n",
       "       6.005, 6.007, 6.008, 6.012, 6.01 , 6.01 , 6.008, 6.013, 6.009,\n",
       "       6.005, 6.008, 6.009, 6.005, 6.008, 6.002, 6.004, 6.008, 6.011,\n",
       "       6.007, 6.007, 6.009, 6.008, 6.008, 6.011, 6.008, 6.009, 6.007,\n",
       "       6.004, 6.01 , 6.007, 6.007, 6.005, 6.008, 6.01 , 6.007, 6.008,\n",
       "       6.009, 6.004, 6.005, 6.005, 6.007, 6.009, 6.014, 6.008, 6.009,\n",
       "       6.009, 6.004, 6.008, 6.005, 6.01 , 6.007, 6.009, 6.006, 6.004,\n",
       "       6.007, 6.007, 6.007, 6.01 , 6.009, 6.008, 6.004, 6.008, 6.004,\n",
       "       6.007, 6.007, 6.01 , 6.008, 6.011, 6.006, 6.006, 6.007, 6.008,\n",
       "       6.009, 6.006, 6.011, 6.008, 6.008, 6.007, 6.009, 6.005, 6.007,\n",
       "       6.01 , 6.012, 6.012, 6.005, 6.009, 6.011, 6.007, 6.008, 6.004,\n",
       "       6.008, 6.006, 6.006, 6.01 , 6.007, 6.008, 6.005, 6.012, 6.008,\n",
       "       6.007])"
      ]
     },
     "execution_count": 2,
     "metadata": {},
     "output_type": "execute_result"
    }
   ],
   "source": [
    "mu, sigma = 6.0075, 0.0025 # create variables mean and standard deviation\n",
    "hole_diameter = rg.normal(mu, sigma, 1000) # simulate hole diameter variable using normal distribution\n",
    "hole_diameter"
   ]
  },
  {
   "cell_type": "markdown",
   "metadata": {},
   "source": [
    "Cycles - after consulting the manufacturer and observing similar processes already in production it is estimated that number of cycles will range from 15-30 likely depending on the starting diameter of the drill bit.  \n",
    "reference: https://www.sandvik.coromant.com/en-us/knowledge/machining-formulas-definitions/pages/drilling.aspx"
   ]
  },
  {
   "cell_type": "code",
   "execution_count": 3,
   "metadata": {},
   "outputs": [
    {
     "data": {
      "text/plain": [
       "array([27, 16, 27, 23, 28, 21, 23, 20, 22, 28, 15, 28, 24, 15, 28, 16, 27,\n",
       "       16, 19, 23, 29, 25, 16, 24, 17, 17, 15, 21, 28, 28, 19, 18, 22, 19,\n",
       "       15, 26, 23, 20, 19, 29, 24, 25, 26, 29, 25, 18, 15, 27, 24, 20, 15,\n",
       "       26, 27, 26, 27, 20, 26, 19, 22, 15, 24, 20, 18, 15, 15, 20, 24, 18,\n",
       "       17, 26, 17, 27, 27, 22, 15, 28, 15, 29, 25, 28, 17, 15, 21, 17, 20,\n",
       "       15, 26, 22, 29, 28, 27, 17, 26, 19, 15, 17, 23, 18, 16, 21])"
      ]
     },
     "execution_count": 3,
     "metadata": {},
     "output_type": "execute_result"
    }
   ],
   "source": [
    "cycles = rg.integers(15,30,100)\n",
    "cycles"
   ]
  },
  {
   "cell_type": "markdown",
   "metadata": {},
   "source": [
    "As we are implementing Six Sigma techniques we should expect 3.4 defects per million "
   ]
  },
  {
   "cell_type": "code",
   "execution_count": 10,
   "metadata": {},
   "outputs": [
    {
     "data": {
      "text/plain": [
       "array([ True,  True,  True,  True,  True,  True,  True,  True,  True,\n",
       "        True,  True,  True,  True,  True,  True,  True,  True,  True,\n",
       "        True,  True,  True,  True,  True,  True,  True,  True,  True,\n",
       "        True,  True,  True,  True,  True,  True,  True,  True,  True,\n",
       "        True,  True,  True,  True,  True,  True,  True,  True,  True,\n",
       "        True,  True,  True,  True,  True,  True,  True,  True,  True,\n",
       "        True,  True,  True,  True,  True,  True,  True,  True,  True,\n",
       "        True,  True,  True,  True,  True,  True,  True,  True,  True,\n",
       "        True,  True,  True,  True,  True,  True,  True,  True,  True,\n",
       "        True,  True,  True,  True,  True,  True,  True,  True,  True,\n",
       "        True,  True,  True,  True,  True,  True,  True,  True,  True,\n",
       "        True,  True,  True,  True,  True,  True,  True,  True,  True,\n",
       "        True,  True,  True,  True,  True,  True,  True,  True,  True,\n",
       "        True,  True,  True,  True,  True,  True,  True,  True,  True,\n",
       "        True,  True,  True,  True,  True,  True,  True,  True,  True,\n",
       "        True,  True,  True,  True,  True,  True,  True,  True,  True,\n",
       "        True,  True,  True,  True,  True,  True,  True,  True,  True,\n",
       "        True,  True,  True,  True,  True,  True,  True,  True,  True,\n",
       "        True,  True,  True,  True,  True,  True,  True,  True,  True,\n",
       "        True,  True,  True,  True,  True,  True,  True,  True,  True,\n",
       "        True,  True,  True,  True,  True,  True,  True,  True,  True,\n",
       "        True,  True,  True,  True,  True,  True,  True,  True,  True,\n",
       "        True,  True,  True,  True,  True,  True,  True,  True,  True,\n",
       "        True,  True,  True,  True,  True,  True,  True,  True,  True,\n",
       "        True,  True,  True,  True,  True,  True,  True,  True,  True,\n",
       "        True,  True,  True,  True,  True,  True,  True,  True,  True,\n",
       "        True,  True,  True,  True,  True,  True,  True,  True,  True,\n",
       "        True,  True,  True,  True,  True,  True,  True,  True,  True,\n",
       "        True,  True,  True,  True,  True,  True,  True,  True,  True,\n",
       "        True,  True,  True,  True,  True,  True,  True,  True,  True,\n",
       "        True,  True,  True,  True,  True,  True,  True,  True,  True,\n",
       "        True,  True,  True,  True,  True,  True,  True,  True,  True,\n",
       "        True,  True,  True,  True,  True,  True,  True,  True,  True,\n",
       "        True,  True,  True,  True,  True,  True,  True,  True,  True,\n",
       "        True,  True,  True,  True,  True,  True,  True,  True,  True,\n",
       "        True,  True,  True,  True,  True,  True,  True,  True,  True,\n",
       "        True,  True,  True,  True,  True,  True,  True,  True,  True,\n",
       "        True,  True,  True,  True,  True,  True,  True,  True,  True,\n",
       "        True,  True,  True,  True,  True,  True,  True,  True,  True,\n",
       "        True,  True,  True,  True,  True,  True,  True,  True,  True,\n",
       "        True,  True,  True,  True,  True,  True,  True,  True,  True,\n",
       "        True,  True,  True,  True,  True,  True,  True,  True,  True,\n",
       "        True,  True,  True,  True,  True,  True,  True,  True,  True,\n",
       "        True,  True,  True,  True,  True,  True,  True,  True,  True,\n",
       "        True,  True,  True,  True,  True,  True,  True,  True,  True,\n",
       "        True,  True,  True,  True,  True,  True,  True,  True,  True,\n",
       "        True,  True,  True,  True,  True,  True,  True,  True,  True,\n",
       "        True,  True,  True,  True,  True,  True,  True,  True,  True,\n",
       "        True,  True,  True,  True,  True,  True,  True,  True,  True,\n",
       "        True,  True,  True,  True,  True,  True,  True,  True,  True,\n",
       "        True,  True,  True,  True,  True,  True,  True,  True,  True,\n",
       "        True,  True,  True,  True,  True,  True,  True,  True,  True,\n",
       "        True,  True,  True,  True,  True,  True,  True,  True,  True,\n",
       "        True,  True,  True,  True,  True,  True,  True,  True,  True,\n",
       "        True,  True,  True,  True,  True,  True,  True,  True,  True,\n",
       "        True,  True,  True,  True,  True,  True,  True,  True,  True,\n",
       "        True,  True,  True,  True,  True,  True,  True,  True,  True,\n",
       "        True,  True,  True,  True,  True,  True,  True,  True,  True,\n",
       "        True,  True,  True,  True,  True,  True,  True,  True,  True,\n",
       "        True,  True,  True,  True,  True,  True,  True,  True,  True,\n",
       "        True,  True,  True,  True,  True,  True,  True,  True,  True,\n",
       "        True,  True,  True,  True,  True,  True,  True,  True,  True,\n",
       "        True,  True,  True,  True,  True,  True,  True,  True,  True,\n",
       "        True,  True,  True,  True,  True,  True,  True,  True,  True,\n",
       "        True,  True,  True,  True,  True,  True,  True,  True,  True,\n",
       "        True,  True,  True,  True,  True,  True,  True,  True,  True,\n",
       "        True,  True,  True,  True,  True,  True,  True,  True,  True,\n",
       "        True,  True,  True,  True,  True,  True,  True,  True,  True,\n",
       "        True,  True,  True,  True,  True,  True,  True,  True,  True,\n",
       "        True,  True,  True,  True,  True,  True,  True,  True,  True,\n",
       "        True,  True,  True,  True,  True,  True,  True,  True,  True,\n",
       "        True,  True,  True,  True,  True,  True,  True,  True,  True,\n",
       "        True,  True,  True,  True,  True,  True,  True,  True,  True,\n",
       "        True,  True,  True,  True,  True,  True,  True,  True,  True,\n",
       "        True,  True,  True,  True,  True,  True,  True,  True,  True,\n",
       "        True,  True,  True,  True,  True,  True,  True,  True,  True,\n",
       "        True,  True,  True,  True,  True,  True,  True,  True,  True,\n",
       "        True,  True,  True,  True,  True,  True,  True,  True,  True,\n",
       "        True,  True,  True,  True,  True,  True,  True,  True,  True,\n",
       "        True,  True,  True,  True,  True,  True,  True,  True,  True,\n",
       "        True,  True,  True,  True,  True,  True,  True,  True,  True,\n",
       "        True,  True,  True,  True,  True,  True,  True,  True,  True,\n",
       "        True,  True,  True,  True,  True,  True,  True,  True,  True,\n",
       "        True,  True,  True,  True,  True,  True,  True,  True,  True,\n",
       "        True,  True,  True,  True,  True,  True,  True,  True,  True,\n",
       "        True,  True,  True,  True,  True,  True,  True,  True,  True,\n",
       "        True,  True,  True,  True,  True,  True,  True,  True,  True,\n",
       "        True,  True,  True,  True,  True,  True,  True,  True,  True,\n",
       "        True,  True,  True,  True,  True,  True,  True,  True,  True,\n",
       "        True,  True,  True,  True,  True,  True,  True,  True,  True,\n",
       "        True,  True,  True,  True,  True,  True,  True,  True,  True,\n",
       "        True,  True,  True,  True,  True,  True,  True,  True,  True,\n",
       "        True,  True,  True,  True,  True,  True,  True,  True,  True,\n",
       "        True,  True,  True,  True,  True,  True,  True,  True,  True,\n",
       "        True,  True,  True,  True,  True,  True,  True,  True,  True,\n",
       "        True,  True,  True,  True,  True,  True,  True,  True,  True,\n",
       "        True,  True,  True,  True,  True,  True,  True,  True,  True,\n",
       "        True,  True,  True,  True,  True,  True,  True,  True,  True,\n",
       "        True,  True,  True,  True,  True,  True,  True,  True,  True,\n",
       "        True,  True,  True,  True,  True,  True,  True,  True,  True,\n",
       "        True,  True,  True,  True,  True,  True,  True,  True,  True,\n",
       "        True,  True,  True,  True,  True,  True,  True,  True,  True,\n",
       "        True,  True,  True,  True,  True,  True,  True,  True,  True,\n",
       "        True,  True,  True,  True,  True,  True,  True,  True,  True,\n",
       "        True,  True,  True,  True,  True,  True,  True,  True,  True,\n",
       "        True,  True,  True,  True,  True,  True,  True,  True,  True,\n",
       "        True,  True,  True,  True,  True,  True,  True,  True,  True,\n",
       "        True,  True,  True,  True,  True,  True,  True,  True,  True,\n",
       "        True,  True,  True,  True,  True,  True,  True,  True,  True,\n",
       "        True,  True,  True,  True,  True,  True,  True,  True,  True,\n",
       "        True,  True,  True,  True,  True,  True,  True,  True,  True,\n",
       "        True])"
      ]
     },
     "execution_count": 10,
     "metadata": {},
     "output_type": "execute_result"
    }
   ],
   "source": [
    "outcome = [True, False]\n",
    "accepted = rg.choice(outcome, 1000, p=[0.999999966,3.4E-8])\n",
    "accepted"
   ]
  },
  {
   "cell_type": "code",
   "execution_count": null,
   "metadata": {},
   "outputs": [],
   "source": []
  },
  {
   "cell_type": "code",
   "execution_count": null,
   "metadata": {},
   "outputs": [],
   "source": []
  },
  {
   "cell_type": "code",
   "execution_count": 4,
   "metadata": {},
   "outputs": [
    {
     "data": {
      "image/png": "[encoded data removed]",
      "text/plain": [
       "<Figure size 432x288 with 1 Axes>"
      ]
     },
     "metadata": {
      "needs_background": "light"
     },
     "output_type": "display_data"
    }
   ],
   "source": [
    "count, bins, ignored = plt.hist(hole_diameter, 30, density=True)\n",
    "plt.plot(bins, 1/(sigma * np.sqrt(2 * np.pi)) *\n",
    "               np.exp( - (bins - mu)**2 / (2 * sigma**2) ),\n",
    "         linewidth=2, color='r')\n",
    "plt.show()"
   ]
  },
  {
   "cell_type": "code",
   "execution_count": null,
   "metadata": {},
   "outputs": [],
   "source": []
  },
  {
   "cell_type": "code",
   "execution_count": null,
   "metadata": {},
   "outputs": [],
   "source": []
  }
 ],
 "metadata": {
  "kernelspec": {
   "display_name": "Python 3",
   "language": "python",
   "name": "python3"
  },
  "language_info": {
   "codemirror_mode": {
    "name": "ipython",
    "version": 3
   },
   "file_extension": ".py",
   "mimetype": "text/x-python",
   "name": "python",
   "nbconvert_exporter": "python",
   "pygments_lexer": "ipython3",
   "version": "3.8.5"
  }
 },
 "nbformat": 4,
 "nbformat_minor": 4
}
