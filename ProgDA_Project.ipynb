{
 "cells": [
  {
   "attachments": {
    "Assembly_drawing.png": {
     "image/png": "[encoded data removed]"
    }
   },
   "cell_type": "markdown",
   "metadata": {},
   "source": [
    "## Programming for Data Analysis Project Notebook 2020 - Killian Foley\n",
    "### Problem Statement\n",
    "As a manufacturing engineer at electric motor manufacturing company \"Bratwurst Motors\" I have been assigned the task of performing a tolerance stackup analysis, on a linear assembly of multiple parts using the Monte Carlo simulation method. The use of tolerancing is very important in the mechanical design process because it affects product quality and manufacturing cost. [1] From Wikipedia [2] Tolerance analysis is described as \"the general term given to describe the study of accumulated variation in mechanical parts and assemblies\". Tolerance stackup is a process used in mechanical engineering for calculating the effects of the accumulated variation that is allowed by specified dimensions and tolerances provided on manufacturing drawings. Monte Carlo simulation is a computational simulation that relies on repeated random sampling according to a probability distribution to obtain numerical results. [3] \n",
    "\n",
    "<br>\n",
    "\n",
    "The below assembly drawing shows the example application. In order for the Stator and bearing assembly (motor shaft) to fit inside the frame a clearance must be present. That is, the frame is slightly longer than the bearings and stator. The variables will be explained in more detail below.\n",
    "\n",
    "#### Assembly Drawing\n",
    "![Assembly_drawing.png](attachment:Assembly_drawing.png)\n",
    "\n",
    "#### Variables Explained\n",
    "Bearing A = Width (mm) Procured parts with dimensions including tolerances provided by the manufacturer.  \n",
    "Stator = Length (mm) Manufactured part with tolerance provided by the design engineer according to GD&T standards  \n",
    "Bearing B = Width (mm) Same as bearing A above  \n",
    "Frame = Length (mm) Manufactured part with tolerance provided by the design engineer according to GD&T standards  \n",
    "Clearance Gap = A gap must be present between the frame and the outer bearigns so the motor shaft can fit.  \n",
    "<br>\n",
    "In order to create a dataset to perform the analysis the 4 variables (Bearings A&B, Stator and Frame) will have 200 data points simulated according to a normal distribution with the upper and lower tolerance limits being equal to +3$\\sigma$ and -3$\\sigma$ respectively.  \n",
    "The gap will then be calculated for each assembly according to the formula  \n",
    "Clearance Gap = Frame - (Bearing A + Stator + Bearing B)\n",
    "\n",
    "#### Simulating the Random Variables\n",
    "First the relevant python packages are imported - Numpy, Pandas, Matplotlib.pyplot, Seaborn. Numpy.random will be used to generate the data. The number of datapoints simulated for each variable will be 200. In order to ensure reproducible data a generator seed is set in Numpy.random.\n",
    "<br>\n",
    "As outlined above each of the variables will be according to the normal (Gaussian) distribution. The nominal dimensions and tolerances are as follows\n",
    "Bearings = 15mm + 0/- 0.120mm\n",
    "Stator = 180mm +/- 1.6mm\n",
    "Frame = 212 +/- 1.6mm"
   ]
  },
  {
   "cell_type": "code",
   "execution_count": 1,
   "metadata": {},
   "outputs": [
    {
     "data": {
      "text/plain": [
       "array([14.936, 14.981, 14.945, 14.971, 14.943, 14.967, 14.985, 14.996,\n",
       "       14.96 , 14.945, 14.962, 14.977, 14.987, 14.99 , 14.949, 14.94 ,\n",
       "       14.933, 14.996, 14.968, 14.93 , 14.94 , 14.961, 14.986, 14.961,\n",
       "       14.977, 14.937, 14.95 , 14.977, 14.941, 14.959, 14.962, 14.987,\n",
       "       14.983, 14.97 , 14.945, 14.976, 14.964, 14.948, 14.988, 14.958,\n",
       "       14.964, 14.974, 14.984, 14.986, 14.964, 14.959, 14.978, 14.952,\n",
       "       14.948, 14.922, 14.937, 14.965, 14.977, 14.959, 14.992, 14.949,\n",
       "       14.962, 14.946, 14.944, 15.014, 14.96 , 14.974, 14.941, 14.952,\n",
       "       14.93 , 14.927, 14.996, 14.974, 14.975, 14.98 , 14.946, 14.986,\n",
       "       14.961, 14.936, 14.951, 14.939, 14.961, 14.952, 14.921, 14.959,\n",
       "       14.964, 14.953, 14.993, 14.921, 14.963, 14.986, 14.983, 14.938,\n",
       "       14.943, 14.947, 14.939, 14.984, 14.991, 14.903, 14.932, 14.947,\n",
       "       14.948, 14.924, 14.918, 14.971, 14.967, 14.967, 14.946, 14.988,\n",
       "       14.94 , 14.929, 14.956, 14.968, 14.942, 14.936, 14.933, 14.984,\n",
       "       14.913, 14.958, 14.967, 14.955, 14.984, 14.958, 14.98 , 14.964,\n",
       "       14.913, 14.958, 14.926, 14.973, 14.982, 14.943, 14.97 , 14.983,\n",
       "       14.992, 14.972, 14.955, 14.973, 14.945, 14.938, 14.948, 14.955,\n",
       "       14.978, 14.989, 14.957, 14.929, 14.98 , 14.991, 14.949, 14.972,\n",
       "       14.955, 14.961, 14.955, 14.989, 14.975, 14.955, 14.932, 14.968,\n",
       "       14.952, 14.938, 14.961, 14.966, 14.974, 14.969, 14.959, 14.932,\n",
       "       14.934, 14.982, 14.945, 14.925, 14.93 , 14.948, 14.915, 14.968,\n",
       "       14.96 , 14.957, 14.955, 14.935, 14.993, 14.933, 15.006, 14.949,\n",
       "       14.964, 14.972, 14.957, 14.977, 14.957, 15.001, 14.948, 14.966,\n",
       "       14.958, 14.967, 14.965, 14.957, 14.952, 14.97 , 15.004, 14.961,\n",
       "       14.97 , 15.007, 14.959, 14.978, 14.972, 14.926, 14.964, 14.969])"
      ]
     },
     "execution_count": 1,
     "metadata": {},
     "output_type": "execute_result"
    }
   ],
   "source": [
    "#start by importing libraries\n",
    "import numpy as np\n",
    "import pandas as pd\n",
    "import matplotlib.pyplot as plt\n",
    "import seaborn as sns\n",
    "%matplotlib inline\n",
    "\n",
    "# set Numpy precision to 3 decimal places due to practical measurement accuracies\n",
    "np.set_printoptions(precision=3)\n",
    "pd.set_option('precision', 3)\n",
    "\n",
    "#setting the random generator so results can be reproduced\n",
    "\n",
    "from numpy.random import default_rng\n",
    "rg = default_rng(135792468)\n",
    "\n",
    "#Generating bearing A data using normal distribution\n",
    "Bearing_width_A = rg.normal(14.96,0.02,200)\n",
    "Bearing_width_A"
   ]
  },
  {
   "cell_type": "code",
   "execution_count": 2,
   "metadata": {},
   "outputs": [
    {
     "data": {
      "text/plain": [
       "array([14.978, 14.998, 14.914, 14.95 , 14.937, 14.956, 14.949, 14.958,\n",
       "       15.003, 14.96 , 14.964, 14.978, 14.956, 14.956, 14.966, 14.952,\n",
       "       14.979, 14.945, 14.95 , 14.954, 14.957, 14.947, 14.968, 14.966,\n",
       "       14.973, 14.998, 14.986, 14.953, 14.946, 14.971, 14.978, 14.948,\n",
       "       14.998, 14.962, 14.962, 14.983, 14.996, 14.971, 14.988, 14.972,\n",
       "       14.95 , 14.988, 14.95 , 14.942, 14.963, 14.977, 14.961, 14.965,\n",
       "       14.961, 14.921, 14.966, 14.983, 14.985, 14.976, 14.972, 14.931,\n",
       "       14.978, 14.962, 14.984, 14.954, 14.952, 14.938, 14.933, 14.946,\n",
       "       14.971, 14.959, 14.983, 14.964, 14.937, 14.973, 14.975, 14.983,\n",
       "       14.948, 14.96 , 14.968, 14.965, 14.951, 14.971, 14.959, 14.938,\n",
       "       14.983, 14.962, 14.96 , 14.981, 14.977, 14.964, 14.97 , 14.981,\n",
       "       14.958, 14.972, 14.955, 14.955, 14.943, 14.971, 14.961, 14.933,\n",
       "       14.963, 14.964, 14.95 , 14.927, 14.969, 14.968, 14.951, 14.982,\n",
       "       14.972, 14.986, 14.931, 14.94 , 14.901, 14.977, 14.954, 14.957,\n",
       "       14.928, 14.952, 14.948, 14.956, 14.968, 14.935, 14.961, 14.949,\n",
       "       14.936, 14.965, 14.981, 14.983, 14.926, 14.944, 15.005, 14.961,\n",
       "       14.977, 14.968, 14.943, 14.963, 14.971, 14.967, 14.968, 14.977,\n",
       "       14.968, 14.953, 14.982, 14.929, 14.97 , 14.97 , 14.993, 14.98 ,\n",
       "       14.943, 14.942, 14.931, 14.958, 14.981, 14.924, 14.976, 14.955,\n",
       "       14.951, 14.97 , 14.947, 14.981, 14.976, 14.955, 14.973, 14.932,\n",
       "       14.951, 14.975, 14.968, 14.955, 14.964, 14.983, 14.946, 14.946,\n",
       "       14.959, 14.992, 14.952, 14.942, 14.947, 14.932, 14.959, 14.942,\n",
       "       14.977, 14.969, 14.938, 14.985, 14.917, 14.979, 14.963, 14.929,\n",
       "       14.978, 14.917, 14.966, 14.957, 14.975, 14.949, 14.928, 14.956,\n",
       "       14.943, 14.935, 14.972, 14.975, 14.962, 14.963, 14.966, 14.933])"
      ]
     },
     "execution_count": 2,
     "metadata": {},
     "output_type": "execute_result"
    }
   ],
   "source": [
    "#Generating bearing A data using normal distribution\n",
    "Bearing_width_B = rg.normal(14.96,0.02,200) #simulate drill diamaters using normal distribution\n",
    "Bearing_width_B"
   ]
  },
  {
   "cell_type": "markdown",
   "metadata": {},
   "source": [
    "As the manufacturing facilty employs Six Sigma techniques the manufacturing yield will be designed to these parameters that is the upper and lower tolerance limits will be +3 and -3 standard deviations respectively with the distribution centred around the halfway point.  \n",
    "https://en.wikipedia.org/wiki/Six_Sigma"
   ]
  },
  {
   "cell_type": "code",
   "execution_count": 3,
   "metadata": {},
   "outputs": [
    {
     "data": {
      "text/plain": [
       "array([179.545, 179.383, 180.365, 179.491, 180.239, 180.873, 179.079,\n",
       "       180.176, 179.575, 179.714, 179.698, 179.43 , 180.529, 180.606,\n",
       "       179.819, 180.672, 179.951, 179.449, 181.505, 179.428, 180.4  ,\n",
       "       180.311, 180.281, 179.729, 180.577, 178.952, 180.223, 180.25 ,\n",
       "       180.945, 180.396, 179.603, 179.437, 179.634, 179.81 , 180.182,\n",
       "       180.828, 179.844, 180.895, 179.195, 181.148, 180.326, 180.042,\n",
       "       180.762, 180.056, 179.328, 180.212, 180.396, 179.783, 179.543,\n",
       "       179.673, 180.105, 180.146, 180.483, 179.795, 180.354, 179.914,\n",
       "       180.798, 179.226, 179.531, 180.196, 180.275, 180.721, 180.347,\n",
       "       179.667, 180.538, 179.284, 180.072, 179.491, 179.655, 179.94 ,\n",
       "       180.359, 180.23 , 180.068, 179.962, 179.452, 179.525, 179.603,\n",
       "       179.85 , 180.73 , 179.634, 180.233, 180.392, 180.255, 180.138,\n",
       "       180.77 , 179.61 , 179.496, 180.443, 180.419, 180.272, 179.477,\n",
       "       179.967, 179.045, 179.629, 180.116, 180.366, 179.838, 180.055,\n",
       "       180.667, 179.964, 180.262, 180.633, 180.752, 179.908, 180.38 ,\n",
       "       180.797, 179.259, 178.949, 180.351, 179.711, 179.564, 180.482,\n",
       "       180.1  , 180.696, 179.881, 178.521, 180.794, 180.09 , 179.682,\n",
       "       179.888, 180.246, 179.972, 180.3  , 180.034, 180.673, 178.99 ,\n",
       "       179.574, 178.824, 179.778, 180.644, 180.177, 179.379, 181.005,\n",
       "       180.466, 180.177, 179.575, 180.206, 179.982, 179.865, 179.258,\n",
       "       180.531, 180.384, 180.519, 180.677, 180.229, 179.65 , 180.04 ,\n",
       "       179.864, 180.197, 180.448, 179.923, 179.296, 179.809, 180.134,\n",
       "       180.186, 180.354, 180.797, 178.649, 180.624, 179.77 , 180.063,\n",
       "       180.414, 180.171, 179.165, 180.311, 180.187, 179.802, 180.403,\n",
       "       179.163, 180.242, 179.049, 178.956, 179.967, 180.75 , 179.511,\n",
       "       180.794, 180.554, 180.422, 179.616, 179.556, 179.291, 179.714,\n",
       "       180.353, 180.3  , 179.691, 179.606, 179.546, 180.23 , 179.837,\n",
       "       180.017, 179.89 , 179.953, 179.743, 180.17 , 179.585, 179.544,\n",
       "       179.843, 180.051, 180.176, 180.312])"
      ]
     },
     "execution_count": 3,
     "metadata": {},
     "output_type": "execute_result"
    }
   ],
   "source": [
    "stator_mu, stator_sigma = 180.0, 0.533 # create variables mean and standard deviation\n",
    "stator_length = rg.normal(stator_mu, stator_sigma, 200) # simulate hole diameter variable using normal distribution\n",
    "stator_length"
   ]
  },
  {
   "cell_type": "markdown",
   "metadata": {},
   "source": [
    "Cycles - after consulting the manufacturer and observing similar processes already in production it is estimated that number of cycles will range from 15-30 likely depending on the starting diameter of the drill bit.  \n",
    "reference: https://www.sandvik.coromant.com/en-us/knowledge/machining-formulas-definitions/pages/drilling.aspx"
   ]
  },
  {
   "cell_type": "code",
   "execution_count": 3,
   "metadata": {},
   "outputs": [
    {
     "data": {
      "text/plain": [
       "array([24, 17, 23, 19, 21, 23, 22, 25, 29, 23, 25, 21, 20, 18, 25, 18, 26,\n",
       "       21, 28, 22, 29, 17, 29, 26, 26, 28, 24, 27, 28, 24, 28, 28, 29, 15,\n",
       "       17, 24, 18, 27, 26, 16, 23, 15, 22, 17, 25, 15, 24, 29, 22, 15, 25,\n",
       "       28, 26, 15, 22, 29, 28, 23, 17, 15, 29, 18, 28, 19, 18, 23, 28, 25,\n",
       "       20, 18, 22, 15, 16, 18, 24, 23, 17, 29, 28, 25, 20, 25, 23, 22, 28,\n",
       "       17, 29, 25, 23, 17, 21, 23, 26, 15, 15, 19, 22, 15, 15, 28])"
      ]
     },
     "execution_count": 3,
     "metadata": {},
     "output_type": "execute_result"
    }
   ],
   "source": [
    "cycles = rg.integers(15,30,100)\n",
    "cycles"
   ]
  },
  {
   "cell_type": "markdown",
   "metadata": {},
   "source": [
    "As we are implementing Six Sigma techniques we should expect 3.4 defects per million "
   ]
  },
  {
   "cell_type": "code",
   "execution_count": 4,
   "metadata": {},
   "outputs": [
    {
     "data": {
      "text/plain": [
       "array([ True,  True,  True,  True,  True,  True,  True,  True,  True,\n",
       "        True,  True,  True,  True,  True,  True,  True,  True,  True,\n",
       "        True,  True,  True,  True,  True,  True,  True,  True,  True,\n",
       "        True,  True,  True,  True,  True,  True,  True,  True,  True,\n",
       "        True,  True,  True,  True,  True,  True,  True,  True,  True,\n",
       "        True,  True,  True,  True,  True,  True,  True,  True,  True,\n",
       "        True,  True,  True,  True,  True,  True,  True,  True,  True,\n",
       "        True,  True,  True,  True,  True,  True,  True,  True,  True,\n",
       "        True,  True,  True,  True,  True,  True,  True,  True,  True,\n",
       "        True,  True,  True,  True,  True,  True,  True,  True,  True,\n",
       "        True,  True,  True,  True,  True,  True,  True,  True,  True,\n",
       "        True])"
      ]
     },
     "execution_count": 4,
     "metadata": {},
     "output_type": "execute_result"
    }
   ],
   "source": [
    "outcome = [True, False]\n",
    "accepted = rg.choice(outcome, 100, p=[0.999999966,3.4E-8])\n",
    "accepted"
   ]
  },
  {
   "cell_type": "markdown",
   "metadata": {},
   "source": [
    "Create a Pandas Dataframe from dictionary. [https://pandas.pydata.org/pandas-docs/stable/reference/api/pandas.DataFrame.html]."
   ]
  },
  {
   "cell_type": "code",
   "execution_count": 5,
   "metadata": {},
   "outputs": [
    {
     "data": {
      "text/html": [
       "<div>\n",
       "<style scoped>\n",
       "    .dataframe tbody tr th:only-of-type {\n",
       "        vertical-align: middle;\n",
       "    }\n",
       "\n",
       "    .dataframe tbody tr th {\n",
       "        vertical-align: top;\n",
       "    }\n",
       "\n",
       "    .dataframe thead th {\n",
       "        text-align: right;\n",
       "    }\n",
       "</style>\n",
       "<table border=\"1\" class=\"dataframe\">\n",
       "  <thead>\n",
       "    <tr style=\"text-align: right;\">\n",
       "      <th></th>\n",
       "      <th>DrillDiameter</th>\n",
       "      <th>HoleDiameter</th>\n",
       "      <th>DrillbitCycles</th>\n",
       "      <th>QAAccepted</th>\n",
       "    </tr>\n",
       "  </thead>\n",
       "  <tbody>\n",
       "    <tr>\n",
       "      <th>0</th>\n",
       "      <td>6.809</td>\n",
       "      <td>6.802</td>\n",
       "      <td>24</td>\n",
       "      <td>True</td>\n",
       "    </tr>\n",
       "    <tr>\n",
       "      <th>1</th>\n",
       "      <td>6.813</td>\n",
       "      <td>6.809</td>\n",
       "      <td>17</td>\n",
       "      <td>True</td>\n",
       "    </tr>\n",
       "    <tr>\n",
       "      <th>2</th>\n",
       "      <td>6.805</td>\n",
       "      <td>6.808</td>\n",
       "      <td>23</td>\n",
       "      <td>True</td>\n",
       "    </tr>\n",
       "    <tr>\n",
       "      <th>3</th>\n",
       "      <td>6.803</td>\n",
       "      <td>6.808</td>\n",
       "      <td>19</td>\n",
       "      <td>True</td>\n",
       "    </tr>\n",
       "    <tr>\n",
       "      <th>4</th>\n",
       "      <td>6.810</td>\n",
       "      <td>6.806</td>\n",
       "      <td>21</td>\n",
       "      <td>True</td>\n",
       "    </tr>\n",
       "    <tr>\n",
       "      <th>...</th>\n",
       "      <td>...</td>\n",
       "      <td>...</td>\n",
       "      <td>...</td>\n",
       "      <td>...</td>\n",
       "    </tr>\n",
       "    <tr>\n",
       "      <th>95</th>\n",
       "      <td>6.804</td>\n",
       "      <td>6.813</td>\n",
       "      <td>19</td>\n",
       "      <td>True</td>\n",
       "    </tr>\n",
       "    <tr>\n",
       "      <th>96</th>\n",
       "      <td>6.813</td>\n",
       "      <td>6.807</td>\n",
       "      <td>22</td>\n",
       "      <td>True</td>\n",
       "    </tr>\n",
       "    <tr>\n",
       "      <th>97</th>\n",
       "      <td>6.808</td>\n",
       "      <td>6.810</td>\n",
       "      <td>15</td>\n",
       "      <td>True</td>\n",
       "    </tr>\n",
       "    <tr>\n",
       "      <th>98</th>\n",
       "      <td>6.806</td>\n",
       "      <td>6.809</td>\n",
       "      <td>15</td>\n",
       "      <td>True</td>\n",
       "    </tr>\n",
       "    <tr>\n",
       "      <th>99</th>\n",
       "      <td>6.811</td>\n",
       "      <td>6.803</td>\n",
       "      <td>28</td>\n",
       "      <td>True</td>\n",
       "    </tr>\n",
       "  </tbody>\n",
       "</table>\n",
       "<p>100 rows × 4 columns</p>\n",
       "</div>"
      ],
      "text/plain": [
       "    DrillDiameter  HoleDiameter  DrillbitCycles  QAAccepted\n",
       "0           6.809         6.802              24        True\n",
       "1           6.813         6.809              17        True\n",
       "2           6.805         6.808              23        True\n",
       "3           6.803         6.808              19        True\n",
       "4           6.810         6.806              21        True\n",
       "..            ...           ...             ...         ...\n",
       "95          6.804         6.813              19        True\n",
       "96          6.813         6.807              22        True\n",
       "97          6.808         6.810              15        True\n",
       "98          6.806         6.809              15        True\n",
       "99          6.811         6.803              28        True\n",
       "\n",
       "[100 rows x 4 columns]"
      ]
     },
     "execution_count": 5,
     "metadata": {},
     "output_type": "execute_result"
    }
   ],
   "source": [
    "d = {'DrillDiameter': drill_diameter, 'HoleDiameter': hole_diameter, 'DrillbitCycles': cycles, 'QAAccepted': accepted}\n",
    "df = pd.DataFrame(data=d)\n",
    "df"
   ]
  },
  {
   "cell_type": "code",
   "execution_count": 6,
   "metadata": {},
   "outputs": [
    {
     "data": {
      "text/html": [
       "<div>\n",
       "<style scoped>\n",
       "    .dataframe tbody tr th:only-of-type {\n",
       "        vertical-align: middle;\n",
       "    }\n",
       "\n",
       "    .dataframe tbody tr th {\n",
       "        vertical-align: top;\n",
       "    }\n",
       "\n",
       "    .dataframe thead th {\n",
       "        text-align: right;\n",
       "    }\n",
       "</style>\n",
       "<table border=\"1\" class=\"dataframe\">\n",
       "  <thead>\n",
       "    <tr style=\"text-align: right;\">\n",
       "      <th></th>\n",
       "      <th>DrillDiameter</th>\n",
       "      <th>HoleDiameter</th>\n",
       "      <th>DrillbitCycles</th>\n",
       "    </tr>\n",
       "  </thead>\n",
       "  <tbody>\n",
       "    <tr>\n",
       "      <th>count</th>\n",
       "      <td>100.000</td>\n",
       "      <td>100.000</td>\n",
       "      <td>100.000</td>\n",
       "    </tr>\n",
       "    <tr>\n",
       "      <th>mean</th>\n",
       "      <td>6.808</td>\n",
       "      <td>6.807</td>\n",
       "      <td>22.420</td>\n",
       "    </tr>\n",
       "    <tr>\n",
       "      <th>std</th>\n",
       "      <td>0.004</td>\n",
       "      <td>0.003</td>\n",
       "      <td>4.586</td>\n",
       "    </tr>\n",
       "    <tr>\n",
       "      <th>min</th>\n",
       "      <td>6.800</td>\n",
       "      <td>6.802</td>\n",
       "      <td>15.000</td>\n",
       "    </tr>\n",
       "    <tr>\n",
       "      <th>25%</th>\n",
       "      <td>6.804</td>\n",
       "      <td>6.806</td>\n",
       "      <td>18.000</td>\n",
       "    </tr>\n",
       "    <tr>\n",
       "      <th>50%</th>\n",
       "      <td>6.808</td>\n",
       "      <td>6.807</td>\n",
       "      <td>23.000</td>\n",
       "    </tr>\n",
       "    <tr>\n",
       "      <th>75%</th>\n",
       "      <td>6.812</td>\n",
       "      <td>6.809</td>\n",
       "      <td>26.000</td>\n",
       "    </tr>\n",
       "    <tr>\n",
       "      <th>max</th>\n",
       "      <td>6.815</td>\n",
       "      <td>6.813</td>\n",
       "      <td>29.000</td>\n",
       "    </tr>\n",
       "  </tbody>\n",
       "</table>\n",
       "</div>"
      ],
      "text/plain": [
       "       DrillDiameter  HoleDiameter  DrillbitCycles\n",
       "count        100.000       100.000         100.000\n",
       "mean           6.808         6.807          22.420\n",
       "std            0.004         0.003           4.586\n",
       "min            6.800         6.802          15.000\n",
       "25%            6.804         6.806          18.000\n",
       "50%            6.808         6.807          23.000\n",
       "75%            6.812         6.809          26.000\n",
       "max            6.815         6.813          29.000"
      ]
     },
     "execution_count": 6,
     "metadata": {},
     "output_type": "execute_result"
    }
   ],
   "source": [
    "df.describe() #Outputs a summary of each numerical column"
   ]
  },
  {
   "cell_type": "code",
   "execution_count": 7,
   "metadata": {},
   "outputs": [
    {
     "data": {
      "text/html": [
       "<div>\n",
       "<style scoped>\n",
       "    .dataframe tbody tr th:only-of-type {\n",
       "        vertical-align: middle;\n",
       "    }\n",
       "\n",
       "    .dataframe tbody tr th {\n",
       "        vertical-align: top;\n",
       "    }\n",
       "\n",
       "    .dataframe thead th {\n",
       "        text-align: right;\n",
       "    }\n",
       "</style>\n",
       "<table border=\"1\" class=\"dataframe\">\n",
       "  <thead>\n",
       "    <tr style=\"text-align: right;\">\n",
       "      <th></th>\n",
       "      <th>DrillDiameter</th>\n",
       "      <th>HoleDiameter</th>\n",
       "      <th>DrillbitCycles</th>\n",
       "      <th>QAAccepted</th>\n",
       "    </tr>\n",
       "  </thead>\n",
       "  <tbody>\n",
       "    <tr>\n",
       "      <th>count</th>\n",
       "      <td>100.000</td>\n",
       "      <td>100.000</td>\n",
       "      <td>100.000</td>\n",
       "      <td>100</td>\n",
       "    </tr>\n",
       "    <tr>\n",
       "      <th>unique</th>\n",
       "      <td>NaN</td>\n",
       "      <td>NaN</td>\n",
       "      <td>NaN</td>\n",
       "      <td>1</td>\n",
       "    </tr>\n",
       "    <tr>\n",
       "      <th>top</th>\n",
       "      <td>NaN</td>\n",
       "      <td>NaN</td>\n",
       "      <td>NaN</td>\n",
       "      <td>True</td>\n",
       "    </tr>\n",
       "    <tr>\n",
       "      <th>freq</th>\n",
       "      <td>NaN</td>\n",
       "      <td>NaN</td>\n",
       "      <td>NaN</td>\n",
       "      <td>100</td>\n",
       "    </tr>\n",
       "    <tr>\n",
       "      <th>mean</th>\n",
       "      <td>6.808</td>\n",
       "      <td>6.807</td>\n",
       "      <td>22.420</td>\n",
       "      <td>NaN</td>\n",
       "    </tr>\n",
       "    <tr>\n",
       "      <th>std</th>\n",
       "      <td>0.004</td>\n",
       "      <td>0.003</td>\n",
       "      <td>4.586</td>\n",
       "      <td>NaN</td>\n",
       "    </tr>\n",
       "    <tr>\n",
       "      <th>min</th>\n",
       "      <td>6.800</td>\n",
       "      <td>6.802</td>\n",
       "      <td>15.000</td>\n",
       "      <td>NaN</td>\n",
       "    </tr>\n",
       "    <tr>\n",
       "      <th>25%</th>\n",
       "      <td>6.804</td>\n",
       "      <td>6.806</td>\n",
       "      <td>18.000</td>\n",
       "      <td>NaN</td>\n",
       "    </tr>\n",
       "    <tr>\n",
       "      <th>50%</th>\n",
       "      <td>6.808</td>\n",
       "      <td>6.807</td>\n",
       "      <td>23.000</td>\n",
       "      <td>NaN</td>\n",
       "    </tr>\n",
       "    <tr>\n",
       "      <th>75%</th>\n",
       "      <td>6.812</td>\n",
       "      <td>6.809</td>\n",
       "      <td>26.000</td>\n",
       "      <td>NaN</td>\n",
       "    </tr>\n",
       "    <tr>\n",
       "      <th>max</th>\n",
       "      <td>6.815</td>\n",
       "      <td>6.813</td>\n",
       "      <td>29.000</td>\n",
       "      <td>NaN</td>\n",
       "    </tr>\n",
       "  </tbody>\n",
       "</table>\n",
       "</div>"
      ],
      "text/plain": [
       "        DrillDiameter  HoleDiameter  DrillbitCycles QAAccepted\n",
       "count         100.000       100.000         100.000        100\n",
       "unique            NaN           NaN             NaN          1\n",
       "top               NaN           NaN             NaN       True\n",
       "freq              NaN           NaN             NaN        100\n",
       "mean            6.808         6.807          22.420        NaN\n",
       "std             0.004         0.003           4.586        NaN\n",
       "min             6.800         6.802          15.000        NaN\n",
       "25%             6.804         6.806          18.000        NaN\n",
       "50%             6.808         6.807          23.000        NaN\n",
       "75%             6.812         6.809          26.000        NaN\n",
       "max             6.815         6.813          29.000        NaN"
      ]
     },
     "execution_count": 7,
     "metadata": {},
     "output_type": "execute_result"
    }
   ],
   "source": [
    "df.describe(include='all') #Outputs a summary of all columns"
   ]
  },
  {
   "cell_type": "code",
   "execution_count": 9,
   "metadata": {},
   "outputs": [
    {
     "data": {
      "text/html": [
       "<div>\n",
       "<style scoped>\n",
       "    .dataframe tbody tr th:only-of-type {\n",
       "        vertical-align: middle;\n",
       "    }\n",
       "\n",
       "    .dataframe tbody tr th {\n",
       "        vertical-align: top;\n",
       "    }\n",
       "\n",
       "    .dataframe thead th {\n",
       "        text-align: right;\n",
       "    }\n",
       "</style>\n",
       "<table border=\"1\" class=\"dataframe\">\n",
       "  <thead>\n",
       "    <tr style=\"text-align: right;\">\n",
       "      <th></th>\n",
       "      <th>DrillDiameter</th>\n",
       "      <th>HoleDiameter</th>\n",
       "      <th>DrillbitCycles</th>\n",
       "    </tr>\n",
       "  </thead>\n",
       "  <tbody>\n",
       "    <tr>\n",
       "      <th>0</th>\n",
       "      <td>6.809</td>\n",
       "      <td>6.802</td>\n",
       "      <td>24</td>\n",
       "    </tr>\n",
       "    <tr>\n",
       "      <th>1</th>\n",
       "      <td>6.813</td>\n",
       "      <td>6.809</td>\n",
       "      <td>17</td>\n",
       "    </tr>\n",
       "    <tr>\n",
       "      <th>2</th>\n",
       "      <td>6.805</td>\n",
       "      <td>6.808</td>\n",
       "      <td>23</td>\n",
       "    </tr>\n",
       "    <tr>\n",
       "      <th>3</th>\n",
       "      <td>6.803</td>\n",
       "      <td>6.808</td>\n",
       "      <td>19</td>\n",
       "    </tr>\n",
       "    <tr>\n",
       "      <th>4</th>\n",
       "      <td>6.810</td>\n",
       "      <td>6.806</td>\n",
       "      <td>21</td>\n",
       "    </tr>\n",
       "    <tr>\n",
       "      <th>...</th>\n",
       "      <td>...</td>\n",
       "      <td>...</td>\n",
       "      <td>...</td>\n",
       "    </tr>\n",
       "    <tr>\n",
       "      <th>95</th>\n",
       "      <td>6.804</td>\n",
       "      <td>6.813</td>\n",
       "      <td>19</td>\n",
       "    </tr>\n",
       "    <tr>\n",
       "      <th>96</th>\n",
       "      <td>6.813</td>\n",
       "      <td>6.807</td>\n",
       "      <td>22</td>\n",
       "    </tr>\n",
       "    <tr>\n",
       "      <th>97</th>\n",
       "      <td>6.808</td>\n",
       "      <td>6.810</td>\n",
       "      <td>15</td>\n",
       "    </tr>\n",
       "    <tr>\n",
       "      <th>98</th>\n",
       "      <td>6.806</td>\n",
       "      <td>6.809</td>\n",
       "      <td>15</td>\n",
       "    </tr>\n",
       "    <tr>\n",
       "      <th>99</th>\n",
       "      <td>6.811</td>\n",
       "      <td>6.803</td>\n",
       "      <td>28</td>\n",
       "    </tr>\n",
       "  </tbody>\n",
       "</table>\n",
       "<p>100 rows × 3 columns</p>\n",
       "</div>"
      ],
      "text/plain": [
       "    DrillDiameter  HoleDiameter  DrillbitCycles\n",
       "0           6.809         6.802              24\n",
       "1           6.813         6.809              17\n",
       "2           6.805         6.808              23\n",
       "3           6.803         6.808              19\n",
       "4           6.810         6.806              21\n",
       "..            ...           ...             ...\n",
       "95          6.804         6.813              19\n",
       "96          6.813         6.807              22\n",
       "97          6.808         6.810              15\n",
       "98          6.806         6.809              15\n",
       "99          6.811         6.803              28\n",
       "\n",
       "[100 rows x 3 columns]"
      ]
     },
     "execution_count": 9,
     "metadata": {},
     "output_type": "execute_result"
    }
   ],
   "source": [
    "#create a new dataframe excluding QAAccepted column as it is non numeric \n",
    "df1 = df[[\"DrillDiameter\", \"HoleDiameter\", \"DrillbitCycles\"]]\n",
    "df1"
   ]
  },
  {
   "cell_type": "code",
   "execution_count": 10,
   "metadata": {},
   "outputs": [
    {
     "data": {
      "text/plain": [
       "<seaborn.axisgrid.PairGrid at 0x10fd702e0>"
      ]
     },
     "execution_count": 10,
     "metadata": {},
     "output_type": "execute_result"
    },
    {
     "data": {
      "image/png": "[encoded data removed]",
      "text/plain": [
       "<Figure size 540x540 with 12 Axes>"
      ]
     },
     "metadata": {
      "needs_background": "light"
     },
     "output_type": "display_data"
    }
   ],
   "source": [
    "sns.pairplot(df1)"
   ]
  },
  {
   "cell_type": "code",
   "execution_count": null,
   "metadata": {},
   "outputs": [],
   "source": []
  },
  {
   "cell_type": "code",
   "execution_count": null,
   "metadata": {},
   "outputs": [],
   "source": [
    "count, bins, ignored = plt.hist(hole_diameter, 30, density=True)\n",
    "plt.plot(bins, 1/(sigma * np.sqrt(2 * np.pi)) *\n",
    "               np.exp( - (bins - mu)**2 / (2 * sigma**2) ),\n",
    "         linewidth=2, color='r')\n",
    "plt.show()"
   ]
  },
  {
   "cell_type": "code",
   "execution_count": null,
   "metadata": {},
   "outputs": [],
   "source": []
  },
  {
   "cell_type": "markdown",
   "metadata": {},
   "source": [
    "#### References\n",
    "[1] Design Society Publication; pdf in repo <br />\n",
    "[2] Tolerance Analysis wiki; https://en.wikipedia.org/wiki/Tolerance_analysis <br />\n",
    "[3] Monte Carlo Method wiki; https://en.wikipedia.org/wiki/Monte_Carlo_method <br />\n",
    "\n",
    "\n",
    "\n",
    "\n",
    "Links\n",
    "https://www.engineeringtoolbox.com/metric-threads-d_777.html\n",
    "https://www.engineersedge.com/international_tol.htm\n",
    "https://www.maford.com/SiteContent/Documents//2018_catalog_sections//MAFord_2018_Master_Catalog_HP_Drill_%20Selection_Chart.pdf"
   ]
  }
 ],
 "metadata": {
  "kernelspec": {
   "display_name": "Python 3",
   "language": "python",
   "name": "python3"
  },
  "language_info": {
   "codemirror_mode": {
    "name": "ipython",
    "version": 3
   },
   "file_extension": ".py",
   "mimetype": "text/x-python",
   "name": "python",
   "nbconvert_exporter": "python",
   "pygments_lexer": "ipython3",
   "version": "3.8.5"
  }
 },
 "nbformat": 4,
 "nbformat_minor": 4
}
